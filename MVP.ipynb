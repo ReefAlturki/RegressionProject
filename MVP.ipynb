{
 "cells": [
  {
   "cell_type": "markdown",
   "metadata": {},
   "source": [
    "# 1. Web Scraping"
   ]
  },
  {
   "cell_type": "code",
   "execution_count": 2,
   "metadata": {},
   "outputs": [],
   "source": [
    "from bs4 import BeautifulSoup\n",
    "import requests\n",
    "import time, os\n",
    "import pandas as pd\n",
    "from selenium.webdriver.support.ui import WebDriverWait\n",
    "from selenium.webdriver.common.by import By\n",
    "from selenium.webdriver.support import expected_conditions as EC\n",
    "from selenium.webdriver.common.action_chains import ActionChains\n",
    "from selenium.common.exceptions import NoSuchElementException\n",
    "from selenium.common.exceptions import StaleElementReferenceException\n",
    "from selenium.webdriver.common.by import By\n",
    "from selenium.webdriver.support.ui import WebDriverWait\n",
    "from selenium.webdriver.support import expected_conditions\n",
    "import numpy as np\n",
    "import warnings\n",
    "warnings.filterwarnings(\"ignore\")\n",
    "df1=pd.DataFrame()\n",
    "lst_dict = []"
   ]
  },
  {
   "cell_type": "code",
   "execution_count": 80,
   "metadata": {},
   "outputs": [],
   "source": [
    "from selenium import webdriver\n",
    "from selenium.webdriver.common.keys import Keys\n",
    "\n",
    "chromedriver = \"/Users/reefalturki/Downloads/chromedriver\" # path to the chromedriver executable\n",
    "os.environ[\"webdriver.chrome.driver\"] = chromedriver"
   ]
  },
  {
   "cell_type": "markdown",
   "metadata": {},
   "source": [
    "## Cars.com"
   ]
  },
  {
   "cell_type": "code",
   "execution_count": 81,
   "metadata": {},
   "outputs": [
    {
     "name": "stderr",
     "output_type": "stream",
     "text": [
      "<ipython-input-81-3e5b76fabfaa>:4: DeprecationWarning: use options instead of chrome_options\n",
      "  driver = webdriver.Chrome(chromedriver, chrome_options=chromeOptions)\n"
     ]
    }
   ],
   "source": [
    "chromeOptions = webdriver.ChromeOptions()\n",
    "prefs = {\"profile.managed_default_content_settings.images\": 2}\n",
    "chromeOptions.add_experimental_option(\"prefs\", prefs)\n",
    "driver = webdriver.Chrome(chromedriver, chrome_options=chromeOptions)\n",
    "webpage = \"https://www.cars.com/\"\n",
    "driver.get(webpage)"
   ]
  },
  {
   "cell_type": "code",
   "execution_count": 82,
   "metadata": {},
   "outputs": [],
   "source": [
    "soup = BeautifulSoup(driver.page_source, 'html.parser')"
   ]
  },
  {
   "cell_type": "code",
   "execution_count": 83,
   "metadata": {},
   "outputs": [],
   "source": [
    "date_element = driver.find_element_by_xpath(f'//*[@id=\"make-model-search-stocktype\"]/option[4]')\n",
    "date_element.click()"
   ]
  },
  {
   "cell_type": "code",
   "execution_count": 84,
   "metadata": {},
   "outputs": [],
   "source": [
    "date_element = driver.find_element_by_xpath(f'//*[@id=\"by-make-tab\"]/div/div[7]/button')\n",
    "date_element.click()"
   ]
  },
  {
   "cell_type": "markdown",
   "metadata": {},
   "source": [
    "Browse through pages and extract data"
   ]
  },
  {
   "cell_type": "code",
   "execution_count": 85,
   "metadata": {
    "scrolled": false
   },
   "outputs": [],
   "source": [
    "df1=pd.DataFrame()\n",
    "columns=['Name','Year','Manufacturer','State','Color','Fuel type','Transmission','Engine','VIN','Mileage','Price']\n",
    "driver.execute_script(\"window.scrollTo(0, document.body.scrollHeight);\")\n",
    "lst_dict=[]\n",
    "counter=0\n",
    "while True:\n",
    "    WebDriverWait(driver, 5).until(EC.presence_of_all_elements_located((By.CLASS_NAME, \"vehicle-card-visited-tracking-link\")))\n",
    "    for car in driver.find_elements_by_class_name(\"vehicle-card-visited-tracking-link\"):\n",
    "        vals=[]\n",
    "        driver.execute_script(\"window.scrollTo(0, document.body.scrollHeight);\")\n",
    "        try:\n",
    "            url=car.get_attribute('href')\n",
    "        except StaleElementReferenceException:\n",
    "            continue\n",
    "        r = requests.get(url)\n",
    "        soap = BeautifulSoup(r.content)\n",
    "        soap1=soap.find('dl',class_=\"fancy-description-list\")\n",
    "        if soap1:\n",
    "            soap1=soap.find('dl',class_=\"fancy-description-list\").find_all('dd')\n",
    "        else:\n",
    "            continue \n",
    "        # extract the car's data\n",
    "        Name=soap.find('h1',class_='listing-title').text\n",
    "        splitting=Name.split()\n",
    "        name= splitting[2:]\n",
    "        name= ' '.join(word for word in name)\n",
    "        vals.append(name)\n",
    "        year= splitting[0]\n",
    "        vals.append(year)\n",
    "        manufacturer= splitting[1]\n",
    "        vals.append(manufacturer)\n",
    "        soap2=soap.find('div',class_=\"dealer-address\")\n",
    "        if soap2:\n",
    "            element=soap2.text.split()\n",
    "            vals.append(element[-2])\n",
    "        else:\n",
    "            vals.append(np.NaN)\n",
    "        color=soap1[0].text.strip()\n",
    "        vals.append(color)\n",
    "        FuleType=soap1[4].text\n",
    "        vals.append(FuleType)\n",
    "        Transmission=soap1[5].text\n",
    "        vals.append(Transmission)\n",
    "        Engine=soap1[6].text\n",
    "        vals.append(Engine)\n",
    "        VIN=soap1[7].text.strip()\n",
    "        vals.append(VIN)\n",
    "        Mileage=soap1[9].text.strip()\n",
    "        vals.append(Mileage)\n",
    "        price=soap.find(class_=\"primary-price\").text\n",
    "        vals.append(price)\n",
    "        lst_dict.append(dict(zip(columns, vals)))\n",
    "    counter+=1\n",
    "    if counter==500:\n",
    "        break\n",
    "    driver.get(WebDriverWait(driver, 10).until(EC.presence_of_element_located((By.XPATH, '//*[@id=\"next_paginate\"]'))).get_attribute('href'))\n",
    "        \n",
    "df1=df1.append(lst_dict)"
   ]
  },
  {
   "cell_type": "code",
   "execution_count": 87,
   "metadata": {},
   "outputs": [
    {
     "data": {
      "text/html": [
       "<div>\n",
       "<style scoped>\n",
       "    .dataframe tbody tr th:only-of-type {\n",
       "        vertical-align: middle;\n",
       "    }\n",
       "\n",
       "    .dataframe tbody tr th {\n",
       "        vertical-align: top;\n",
       "    }\n",
       "\n",
       "    .dataframe thead th {\n",
       "        text-align: right;\n",
       "    }\n",
       "</style>\n",
       "<table border=\"1\" class=\"dataframe\">\n",
       "  <thead>\n",
       "    <tr style=\"text-align: right;\">\n",
       "      <th></th>\n",
       "      <th>Name</th>\n",
       "      <th>Year</th>\n",
       "      <th>Manufacturer</th>\n",
       "      <th>State</th>\n",
       "      <th>Color</th>\n",
       "      <th>Fuel type</th>\n",
       "      <th>Transmission</th>\n",
       "      <th>Engine</th>\n",
       "      <th>VIN</th>\n",
       "      <th>Mileage</th>\n",
       "      <th>Price</th>\n",
       "    </tr>\n",
       "  </thead>\n",
       "  <tbody>\n",
       "    <tr>\n",
       "      <th>0</th>\n",
       "      <td>AMG C 43 Base 4MATIC</td>\n",
       "      <td>2019</td>\n",
       "      <td>Mercedes-Benz</td>\n",
       "      <td>CA</td>\n",
       "      <td>Black</td>\n",
       "      <td>Gasoline</td>\n",
       "      <td>9-Speed Automatic</td>\n",
       "      <td>3.0L V6 24V GDI DOHC Twin Turbo</td>\n",
       "      <td>55SWF6EB8KU291212</td>\n",
       "      <td>24,076 mi.</td>\n",
       "      <td>$54,392</td>\n",
       "    </tr>\n",
       "    <tr>\n",
       "      <th>1</th>\n",
       "      <td>Terrain SLT</td>\n",
       "      <td>2018</td>\n",
       "      <td>GMC</td>\n",
       "      <td>TN</td>\n",
       "      <td>Graphite Gray Metallic</td>\n",
       "      <td>Gasoline</td>\n",
       "      <td>9-Speed Automatic</td>\n",
       "      <td>2.0L I4 16V GDI DOHC Turbo</td>\n",
       "      <td>3GKALVEX1JL336991</td>\n",
       "      <td>45,278 mi.</td>\n",
       "      <td>$26,659</td>\n",
       "    </tr>\n",
       "    <tr>\n",
       "      <th>2</th>\n",
       "      <td>Romeo Stelvio Ti</td>\n",
       "      <td>2018</td>\n",
       "      <td>Alfa</td>\n",
       "      <td>PA</td>\n",
       "      <td>Vulcano Black Metallic</td>\n",
       "      <td>Gasoline</td>\n",
       "      <td>8-Speed Automatic</td>\n",
       "      <td>2.0L I4 16V GDI SOHC Turbo</td>\n",
       "      <td>ZASFAKNN5J7B93222</td>\n",
       "      <td>13,690 mi.</td>\n",
       "      <td>$34,998</td>\n",
       "    </tr>\n",
       "    <tr>\n",
       "      <th>3</th>\n",
       "      <td>Aviator Reserve AWD</td>\n",
       "      <td>2020</td>\n",
       "      <td>Lincoln</td>\n",
       "      <td>WI</td>\n",
       "      <td>Blue Diamond</td>\n",
       "      <td>Gasoline</td>\n",
       "      <td>10-Speed Automatic</td>\n",
       "      <td>3.0L V6 24V GDI DOHC Twin Turbo</td>\n",
       "      <td>5LM5J7XC1LGL24283</td>\n",
       "      <td>3,104 mi.</td>\n",
       "      <td>$55,995</td>\n",
       "    </tr>\n",
       "    <tr>\n",
       "      <th>4</th>\n",
       "      <td>XC60 T6 Momentum</td>\n",
       "      <td>2021</td>\n",
       "      <td>Volvo</td>\n",
       "      <td>WA</td>\n",
       "      <td>Fusion Red Metallic</td>\n",
       "      <td>Gasoline</td>\n",
       "      <td>8-Speed Automatic</td>\n",
       "      <td>2.0L I4 16V GDI DOHC</td>\n",
       "      <td>YV4A22RK1M1777654</td>\n",
       "      <td>18,378 mi.</td>\n",
       "      <td>$46,880</td>\n",
       "    </tr>\n",
       "    <tr>\n",
       "      <th>5</th>\n",
       "      <td>Wrangler Unlimited Sahara</td>\n",
       "      <td>2020</td>\n",
       "      <td>Jeep</td>\n",
       "      <td>SC</td>\n",
       "      <td>Billet Silver Metallic Clearcoat</td>\n",
       "      <td>Gasoline</td>\n",
       "      <td>8-Speed Automatic</td>\n",
       "      <td>2.0L I4 16V GDI DOHC Turbo</td>\n",
       "      <td>1C4HJXEN7LW204339</td>\n",
       "      <td>48,942 mi.</td>\n",
       "      <td>$41,889</td>\n",
       "    </tr>\n",
       "    <tr>\n",
       "      <th>6</th>\n",
       "      <td>CX-5 Touring</td>\n",
       "      <td>2020</td>\n",
       "      <td>Mazda</td>\n",
       "      <td>FL</td>\n",
       "      <td>Snowflake White Pearl</td>\n",
       "      <td>Gasoline</td>\n",
       "      <td>6-Speed Automatic</td>\n",
       "      <td>2.5L I4 16V GDI DOHC</td>\n",
       "      <td>JM3KFBCM3L0777706</td>\n",
       "      <td>49,937 mi.</td>\n",
       "      <td>$22,939</td>\n",
       "    </tr>\n",
       "    <tr>\n",
       "      <th>7</th>\n",
       "      <td>GLC 300 Base 4MATIC</td>\n",
       "      <td>2020</td>\n",
       "      <td>Mercedes-Benz</td>\n",
       "      <td>CA</td>\n",
       "      <td>Iridium Silver Metallic</td>\n",
       "      <td>Gasoline</td>\n",
       "      <td>Automatic</td>\n",
       "      <td>Intercooled Turbo Premium Unleaded I-4 2.0 L/121</td>\n",
       "      <td>WDC0G8EB5LF699139</td>\n",
       "      <td>14,317 mi.</td>\n",
       "      <td>$45,991</td>\n",
       "    </tr>\n",
       "    <tr>\n",
       "      <th>8</th>\n",
       "      <td>LC 500 Base</td>\n",
       "      <td>2018</td>\n",
       "      <td>Lexus</td>\n",
       "      <td>MD</td>\n",
       "      <td>Caviar</td>\n",
       "      <td>Gasoline</td>\n",
       "      <td>10-Speed Automatic</td>\n",
       "      <td>5.0L V8 32V PDI DOHC</td>\n",
       "      <td>JTHHP5AY5JA003020</td>\n",
       "      <td>65,360 mi.</td>\n",
       "      <td>$67,390</td>\n",
       "    </tr>\n",
       "    <tr>\n",
       "      <th>9</th>\n",
       "      <td>Fusion SEL</td>\n",
       "      <td>2020</td>\n",
       "      <td>Ford</td>\n",
       "      <td>UT</td>\n",
       "      <td>Oxford White</td>\n",
       "      <td>Gasoline</td>\n",
       "      <td>6-Speed Automatic</td>\n",
       "      <td>1.5L I4 16V GDI DOHC Turbo</td>\n",
       "      <td>3FA6P0CD9LR206514</td>\n",
       "      <td>48,712 mi.</td>\n",
       "      <td>$20,489</td>\n",
       "    </tr>\n",
       "    <tr>\n",
       "      <th>10</th>\n",
       "      <td>NX 300 Base</td>\n",
       "      <td>2019</td>\n",
       "      <td>Lexus</td>\n",
       "      <td>OH</td>\n",
       "      <td>Caviar</td>\n",
       "      <td>Gasoline</td>\n",
       "      <td>6-Speed Automatic</td>\n",
       "      <td>2.0L I4 16V PDI DOHC Turbo</td>\n",
       "      <td>JTJBARBZ2K2193178</td>\n",
       "      <td>20,476 mi.</td>\n",
       "      <td>$35,923</td>\n",
       "    </tr>\n",
       "    <tr>\n",
       "      <th>11</th>\n",
       "      <td>Wrangler Unlimited Sahara</td>\n",
       "      <td>2020</td>\n",
       "      <td>Jeep</td>\n",
       "      <td>SC</td>\n",
       "      <td>Bright White Clearcoat</td>\n",
       "      <td>Gasoline</td>\n",
       "      <td>8-Speed Automatic</td>\n",
       "      <td>2.0L I4 16V GDI DOHC Turbo</td>\n",
       "      <td>1C4HJXEN2LW213871</td>\n",
       "      <td>45,838 mi.</td>\n",
       "      <td>$41,819</td>\n",
       "    </tr>\n",
       "    <tr>\n",
       "      <th>12</th>\n",
       "      <td>Kona SE</td>\n",
       "      <td>2019</td>\n",
       "      <td>Hyundai</td>\n",
       "      <td>SC</td>\n",
       "      <td>Chalk White</td>\n",
       "      <td>Gasoline</td>\n",
       "      <td>6-Speed Automatic</td>\n",
       "      <td>2.0L I4 16V MPFI DOHC</td>\n",
       "      <td>KM8K12AA9KU335922</td>\n",
       "      <td>12,207 mi.</td>\n",
       "      <td>$20,489</td>\n",
       "    </tr>\n",
       "    <tr>\n",
       "      <th>13</th>\n",
       "      <td>A7 3.0T Premium Plus</td>\n",
       "      <td>2016</td>\n",
       "      <td>Audi</td>\n",
       "      <td>VA</td>\n",
       "      <td>Moonlight Blue Metallic</td>\n",
       "      <td>Gasoline</td>\n",
       "      <td>8-Speed Automatic</td>\n",
       "      <td>3.0L V6 24V GDI DOHC Supercharged</td>\n",
       "      <td>WAUWGAFCXGN056678</td>\n",
       "      <td>69,979 mi.</td>\n",
       "      <td>$35,980</td>\n",
       "    </tr>\n",
       "    <tr>\n",
       "      <th>14</th>\n",
       "      <td>CT6 3.6L Luxury</td>\n",
       "      <td>2018</td>\n",
       "      <td>Cadillac</td>\n",
       "      <td>MI</td>\n",
       "      <td>Satin Steel Metallic</td>\n",
       "      <td>Gasoline</td>\n",
       "      <td>8-Speed Automatic</td>\n",
       "      <td>3.6L V6 24V GDI DOHC</td>\n",
       "      <td>1G6KD5RS2JU143334</td>\n",
       "      <td>50,898 mi.</td>\n",
       "      <td>$39,765</td>\n",
       "    </tr>\n",
       "    <tr>\n",
       "      <th>15</th>\n",
       "      <td>Atlas 3.6 V6 SEL R-Line</td>\n",
       "      <td>2019</td>\n",
       "      <td>Volkswagen</td>\n",
       "      <td>VA</td>\n",
       "      <td>Deep Black Pearl Effect</td>\n",
       "      <td>Gasoline</td>\n",
       "      <td>8-Speed Automatic</td>\n",
       "      <td>3.6L V6 24V GDI DOHC</td>\n",
       "      <td>1V2RR2CA6KC565169</td>\n",
       "      <td>14,283 mi.</td>\n",
       "      <td>$38,500</td>\n",
       "    </tr>\n",
       "    <tr>\n",
       "      <th>16</th>\n",
       "      <td>S5 3.0T Prestige quattro</td>\n",
       "      <td>2014</td>\n",
       "      <td>Audi</td>\n",
       "      <td>IL</td>\n",
       "      <td>Black</td>\n",
       "      <td>Gasoline</td>\n",
       "      <td>7-Speed Automatic with Auto-Shift</td>\n",
       "      <td>3.0L V6 24V GDI DOHC Supercharged</td>\n",
       "      <td>WAUVGAFH9EN008125</td>\n",
       "      <td>62,330 mi.</td>\n",
       "      <td>$26,900</td>\n",
       "    </tr>\n",
       "    <tr>\n",
       "      <th>17</th>\n",
       "      <td>CX-5 Touring</td>\n",
       "      <td>2020</td>\n",
       "      <td>Mazda</td>\n",
       "      <td>FL</td>\n",
       "      <td>Machine Gray Metallic</td>\n",
       "      <td>Gasoline</td>\n",
       "      <td>6-Speed Automatic</td>\n",
       "      <td>2.5L I4 16V GDI DOHC</td>\n",
       "      <td>JM3KFBCM3L0768732</td>\n",
       "      <td>49,444 mi.</td>\n",
       "      <td>$23,389</td>\n",
       "    </tr>\n",
       "    <tr>\n",
       "      <th>18</th>\n",
       "      <td>Romeo Giulia Ti</td>\n",
       "      <td>2020</td>\n",
       "      <td>Alfa</td>\n",
       "      <td>NJ</td>\n",
       "      <td>White</td>\n",
       "      <td>Gasoline</td>\n",
       "      <td>8-Speed Automatic</td>\n",
       "      <td>2.0L I4 16V GDI SOHC Turbo</td>\n",
       "      <td>ZARFANBN8L7637071</td>\n",
       "      <td>11,038 mi.</td>\n",
       "      <td>$43,299</td>\n",
       "    </tr>\n",
       "    <tr>\n",
       "      <th>19</th>\n",
       "      <td>Edge Titanium</td>\n",
       "      <td>2018</td>\n",
       "      <td>Ford</td>\n",
       "      <td>MN</td>\n",
       "      <td>Shadow Black</td>\n",
       "      <td>Gasoline</td>\n",
       "      <td>6-Speed Automatic</td>\n",
       "      <td>3.5L V6 24V MPFI DOHC</td>\n",
       "      <td>2FMPK4K81JBC34453</td>\n",
       "      <td>23,914 mi.</td>\n",
       "      <td>$35,455</td>\n",
       "    </tr>\n",
       "    <tr>\n",
       "      <th>20</th>\n",
       "      <td>Edge Titanium</td>\n",
       "      <td>2018</td>\n",
       "      <td>Ford</td>\n",
       "      <td>MN</td>\n",
       "      <td>Gray</td>\n",
       "      <td>Gasoline</td>\n",
       "      <td>6-Speed Automatic</td>\n",
       "      <td>3.5L V6 24V MPFI DOHC</td>\n",
       "      <td>2FMPK4K80JBB88534</td>\n",
       "      <td>58,455 mi.</td>\n",
       "      <td>$29,695</td>\n",
       "    </tr>\n",
       "    <tr>\n",
       "      <th>21</th>\n",
       "      <td>C-Class C 300 4MATIC</td>\n",
       "      <td>2019</td>\n",
       "      <td>Mercedes-Benz</td>\n",
       "      <td>FL</td>\n",
       "      <td>Graphite Gray Metallic</td>\n",
       "      <td>Gasoline</td>\n",
       "      <td>9-Speed Automatic</td>\n",
       "      <td>2.0L I4 16V GDI DOHC Turbo</td>\n",
       "      <td>WDDWK8EB6KF829867</td>\n",
       "      <td>19,665 mi.</td>\n",
       "      <td>$51,999</td>\n",
       "    </tr>\n",
       "    <tr>\n",
       "      <th>22</th>\n",
       "      <td>Edge Titanium</td>\n",
       "      <td>2018</td>\n",
       "      <td>Ford</td>\n",
       "      <td>MN</td>\n",
       "      <td>Lightning Blue Metallic</td>\n",
       "      <td>Gasoline</td>\n",
       "      <td>6-Speed Automatic</td>\n",
       "      <td>3.5L V6 24V MPFI DOHC</td>\n",
       "      <td>2FMPK4K84JBB31091</td>\n",
       "      <td>33,893 mi.</td>\n",
       "      <td>$31,999</td>\n",
       "    </tr>\n",
       "    <tr>\n",
       "      <th>23</th>\n",
       "      <td>Santa Fe SEL 2.4</td>\n",
       "      <td>2020</td>\n",
       "      <td>Hyundai</td>\n",
       "      <td>NC</td>\n",
       "      <td>Quartz White</td>\n",
       "      <td>Gasoline</td>\n",
       "      <td>8-Speed Automatic</td>\n",
       "      <td>2.4L I4 16V GDI DOHC</td>\n",
       "      <td>5NMS33AD9LH217540</td>\n",
       "      <td>23,719 mi.</td>\n",
       "      <td>$27,629</td>\n",
       "    </tr>\n",
       "    <tr>\n",
       "      <th>24</th>\n",
       "      <td>RDX Technology Package</td>\n",
       "      <td>2017</td>\n",
       "      <td>Acura</td>\n",
       "      <td>MD</td>\n",
       "      <td>White</td>\n",
       "      <td>Gasoline</td>\n",
       "      <td>6-Speed Automatic</td>\n",
       "      <td>3.5L V6 24V MPFI SOHC</td>\n",
       "      <td>5J8TB4H56HL001048</td>\n",
       "      <td>46,735 mi.</td>\n",
       "      <td>$27,991</td>\n",
       "    </tr>\n",
       "    <tr>\n",
       "      <th>25</th>\n",
       "      <td>RS 5 2.9T</td>\n",
       "      <td>2019</td>\n",
       "      <td>Audi</td>\n",
       "      <td>OR</td>\n",
       "      <td>Daytona Gray Pearl Effect</td>\n",
       "      <td>Gasoline</td>\n",
       "      <td>8-Speed Automatic</td>\n",
       "      <td>2.9L V6 24V GDI DOHC Twin Turbo</td>\n",
       "      <td>WUABWCF53KA901343</td>\n",
       "      <td>12,141 mi.</td>\n",
       "      <td>$76,648</td>\n",
       "    </tr>\n",
       "    <tr>\n",
       "      <th>26</th>\n",
       "      <td>Corvette Stingray w/2LT</td>\n",
       "      <td>2021</td>\n",
       "      <td>Chevrolet</td>\n",
       "      <td>AZ</td>\n",
       "      <td>Torch Red</td>\n",
       "      <td>Gasoline</td>\n",
       "      <td>8-Speed Automatic with Auto-Shift</td>\n",
       "      <td>6.2L V8 16V GDI OHV</td>\n",
       "      <td>1G1YB3D40M5108552</td>\n",
       "      <td>3,717 mi.</td>\n",
       "      <td>$114,000</td>\n",
       "    </tr>\n",
       "    <tr>\n",
       "      <th>27</th>\n",
       "      <td>Corvette Stingray w/2LT</td>\n",
       "      <td>2021</td>\n",
       "      <td>Chevrolet</td>\n",
       "      <td>AZ</td>\n",
       "      <td>Red</td>\n",
       "      <td>Gasoline</td>\n",
       "      <td>8-Speed Automatic with Auto-Shift</td>\n",
       "      <td>6.2L V8 16V GDI OHV</td>\n",
       "      <td>1G1YB2D42M5120180</td>\n",
       "      <td>1,274 mi.</td>\n",
       "      <td>$109,991</td>\n",
       "    </tr>\n",
       "    <tr>\n",
       "      <th>28</th>\n",
       "      <td>Camry SE</td>\n",
       "      <td>2021</td>\n",
       "      <td>Toyota</td>\n",
       "      <td>FL</td>\n",
       "      <td>Predawn Gray Mica</td>\n",
       "      <td>Gasoline</td>\n",
       "      <td>8-Speed Automatic</td>\n",
       "      <td>2.5L I4 16V PDI DOHC</td>\n",
       "      <td>4T1G11AK3MU514047</td>\n",
       "      <td>10,072 mi.</td>\n",
       "      <td>$26,999</td>\n",
       "    </tr>\n",
       "    <tr>\n",
       "      <th>29</th>\n",
       "      <td>A6 3.0T Premium Plus</td>\n",
       "      <td>2016</td>\n",
       "      <td>Audi</td>\n",
       "      <td>IL</td>\n",
       "      <td>Mythos Black Metallic</td>\n",
       "      <td>Gasoline</td>\n",
       "      <td>8-Speed Automatic</td>\n",
       "      <td>3.0L V6 24V GDI DOHC Supercharged</td>\n",
       "      <td>WAUFGAFC0GN111395</td>\n",
       "      <td>87,019 mi.</td>\n",
       "      <td>$22,987</td>\n",
       "    </tr>\n",
       "    <tr>\n",
       "      <th>30</th>\n",
       "      <td>Compass Trailhawk</td>\n",
       "      <td>2020</td>\n",
       "      <td>Jeep</td>\n",
       "      <td>CO</td>\n",
       "      <td>Redline Pearlcoat</td>\n",
       "      <td>Gasoline</td>\n",
       "      <td>9-Speed Automatic</td>\n",
       "      <td>2.4L I4 16V MPFI SOHC</td>\n",
       "      <td>3C4NJDDB9LT195464</td>\n",
       "      <td>47,270 mi.</td>\n",
       "      <td>$24,469</td>\n",
       "    </tr>\n",
       "    <tr>\n",
       "      <th>31</th>\n",
       "      <td>C-Class C 300 4MATIC</td>\n",
       "      <td>2018</td>\n",
       "      <td>Mercedes-Benz</td>\n",
       "      <td>MO</td>\n",
       "      <td>Iridium Silver Metallic</td>\n",
       "      <td>Gasoline</td>\n",
       "      <td>9-Speed Automatic</td>\n",
       "      <td>2.0L I4 16V GDI DOHC Turbo</td>\n",
       "      <td>WDDWF4KBXJR412590</td>\n",
       "      <td>23,963 mi.</td>\n",
       "      <td>$35,750</td>\n",
       "    </tr>\n",
       "    <tr>\n",
       "      <th>32</th>\n",
       "      <td>Mazda3 i Sport</td>\n",
       "      <td>2016</td>\n",
       "      <td>Mazda</td>\n",
       "      <td>FL</td>\n",
       "      <td>Jet Black Mica</td>\n",
       "      <td>Gasoline</td>\n",
       "      <td>6-Speed Automatic</td>\n",
       "      <td>2.0L I4 16V GDI DOHC</td>\n",
       "      <td>3MZBM1T72GM310036</td>\n",
       "      <td>69,737 mi.</td>\n",
       "      <td>$11,994</td>\n",
       "    </tr>\n",
       "    <tr>\n",
       "      <th>33</th>\n",
       "      <td>Grand Cherokee Limited</td>\n",
       "      <td>2018</td>\n",
       "      <td>Jeep</td>\n",
       "      <td>FL</td>\n",
       "      <td>Granite Crystal Clearcoat Metallic</td>\n",
       "      <td>Gasoline</td>\n",
       "      <td>8-Speed Automatic</td>\n",
       "      <td>3.6L V6 24V MPFI DOHC</td>\n",
       "      <td>1C4RJEBG6JC110661</td>\n",
       "      <td>49,527 mi.</td>\n",
       "      <td>$25,984</td>\n",
       "    </tr>\n",
       "    <tr>\n",
       "      <th>34</th>\n",
       "      <td>GX 460 Base</td>\n",
       "      <td>2020</td>\n",
       "      <td>Lexus</td>\n",
       "      <td>CT</td>\n",
       "      <td>Starfire Pearl</td>\n",
       "      <td>Gasoline</td>\n",
       "      <td>6-Speed Automatic</td>\n",
       "      <td>4.6L V8 32V MPFI DOHC</td>\n",
       "      <td>JTJAM7BX3L5247741</td>\n",
       "      <td>29,498 mi.</td>\n",
       "      <td>$52,000</td>\n",
       "    </tr>\n",
       "    <tr>\n",
       "      <th>35</th>\n",
       "      <td>Grand Cherokee Altitude</td>\n",
       "      <td>2020</td>\n",
       "      <td>Jeep</td>\n",
       "      <td>MO</td>\n",
       "      <td>Sting Gray Clearcoat</td>\n",
       "      <td>Gasoline</td>\n",
       "      <td>8-Speed Automatic</td>\n",
       "      <td>3.6L V6 24V MPFI DOHC</td>\n",
       "      <td>1C4RJFAGXLC104243</td>\n",
       "      <td>66,508 mi.</td>\n",
       "      <td>$38,900</td>\n",
       "    </tr>\n",
       "    <tr>\n",
       "      <th>36</th>\n",
       "      <td>E-Class E 350 4MATIC</td>\n",
       "      <td>2014</td>\n",
       "      <td>Mercedes-Benz</td>\n",
       "      <td>IL</td>\n",
       "      <td>Iridium Silver Metallic</td>\n",
       "      <td>Gasoline</td>\n",
       "      <td>7-Speed Automatic</td>\n",
       "      <td>3.5L V6 24V GDI DOHC</td>\n",
       "      <td>WDDHF8JB9EA894605</td>\n",
       "      <td>55,707 mi.</td>\n",
       "      <td>$22,889</td>\n",
       "    </tr>\n",
       "    <tr>\n",
       "      <th>37</th>\n",
       "      <td>LS 460 L</td>\n",
       "      <td>2014</td>\n",
       "      <td>Lexus</td>\n",
       "      <td>VA</td>\n",
       "      <td>Starfire Pearl</td>\n",
       "      <td>Gasoline</td>\n",
       "      <td>8-Speed Automatic</td>\n",
       "      <td>4.6L V8 32V PDI DOHC</td>\n",
       "      <td>JTHDL5EFXE5006514</td>\n",
       "      <td>62,769 mi.</td>\n",
       "      <td>$33,895</td>\n",
       "    </tr>\n",
       "    <tr>\n",
       "      <th>38</th>\n",
       "      <td>Grand Cherokee Limited</td>\n",
       "      <td>2018</td>\n",
       "      <td>Jeep</td>\n",
       "      <td>FL</td>\n",
       "      <td>Granite Crystal Clearcoat Metallic</td>\n",
       "      <td>Gasoline</td>\n",
       "      <td>8-Speed Automatic</td>\n",
       "      <td>3.6L V6 24V MPFI DOHC</td>\n",
       "      <td>1C4RJFBG4JC333237</td>\n",
       "      <td>16,873 mi.</td>\n",
       "      <td>$32,999</td>\n",
       "    </tr>\n",
       "    <tr>\n",
       "      <th>39</th>\n",
       "      <td>S4 3.0T Premium Plus</td>\n",
       "      <td>2019</td>\n",
       "      <td>Audi</td>\n",
       "      <td>MA</td>\n",
       "      <td>Glacier White Metallic</td>\n",
       "      <td>Gasoline</td>\n",
       "      <td>8-Speed Automatic</td>\n",
       "      <td>3.0L V6 24V GDI DOHC Turbo</td>\n",
       "      <td>WAUB4AF49KA027382</td>\n",
       "      <td>19,324 mi.</td>\n",
       "      <td>$40,995</td>\n",
       "    </tr>\n",
       "    <tr>\n",
       "      <th>40</th>\n",
       "      <td>M4 Base</td>\n",
       "      <td>2015</td>\n",
       "      <td>BMW</td>\n",
       "      <td>NC</td>\n",
       "      <td>Black Sapphire Metallic</td>\n",
       "      <td>Gasoline</td>\n",
       "      <td>7-Speed Automatic with Auto-Shift</td>\n",
       "      <td>3.0L I6 24V GDI DOHC Twin Turbo</td>\n",
       "      <td>WBS3R9C5XFK334055</td>\n",
       "      <td>62,495 mi.</td>\n",
       "      <td>$43,995</td>\n",
       "    </tr>\n",
       "    <tr>\n",
       "      <th>41</th>\n",
       "      <td>CR-V EX-L</td>\n",
       "      <td>2017</td>\n",
       "      <td>Honda</td>\n",
       "      <td>MO</td>\n",
       "      <td>White Diamond Pearl</td>\n",
       "      <td>Gasoline</td>\n",
       "      <td>Automatic CVT</td>\n",
       "      <td>1.5L I4 16V GDI DOHC Turbo</td>\n",
       "      <td>5J6RW2H80HL021060</td>\n",
       "      <td>70,288 mi.</td>\n",
       "      <td>$25,236</td>\n",
       "    </tr>\n",
       "    <tr>\n",
       "      <th>42</th>\n",
       "      <td>GLE 350 Base 4MATIC</td>\n",
       "      <td>2017</td>\n",
       "      <td>Mercedes-Benz</td>\n",
       "      <td>CA</td>\n",
       "      <td>White</td>\n",
       "      <td>Gasoline</td>\n",
       "      <td>7-Speed Automatic</td>\n",
       "      <td>3.5L V6 24V GDI DOHC</td>\n",
       "      <td>4JGDA5HB3HA974137</td>\n",
       "      <td>24,380 mi.</td>\n",
       "      <td>$35,990</td>\n",
       "    </tr>\n",
       "    <tr>\n",
       "      <th>43</th>\n",
       "      <td>Sierra 1500 Denali</td>\n",
       "      <td>2018</td>\n",
       "      <td>GMC</td>\n",
       "      <td>AL</td>\n",
       "      <td>Black</td>\n",
       "      <td>Gasoline</td>\n",
       "      <td>8-Speed Automatic</td>\n",
       "      <td>5.3L V8 16V GDI OHV</td>\n",
       "      <td>3GTU2PEC5JG321939</td>\n",
       "      <td>53,734 mi.</td>\n",
       "      <td>$46,871</td>\n",
       "    </tr>\n",
       "    <tr>\n",
       "      <th>44</th>\n",
       "      <td>GX 460 Luxury</td>\n",
       "      <td>2016</td>\n",
       "      <td>Lexus</td>\n",
       "      <td>IL</td>\n",
       "      <td>Starfire Pearl</td>\n",
       "      <td>Gasoline</td>\n",
       "      <td>6-Speed Automatic</td>\n",
       "      <td>4.6L V8 32V MPFI DOHC</td>\n",
       "      <td>JTJJM7FX7G5134195</td>\n",
       "      <td>53,898 mi.</td>\n",
       "      <td>$38,995</td>\n",
       "    </tr>\n",
       "    <tr>\n",
       "      <th>45</th>\n",
       "      <td>Grand Cherokee Limited</td>\n",
       "      <td>2019</td>\n",
       "      <td>Jeep</td>\n",
       "      <td>NY</td>\n",
       "      <td>Slate Blue Pearlcoat</td>\n",
       "      <td>Gasoline</td>\n",
       "      <td>8-Speed Automatic</td>\n",
       "      <td>3.6L V6 24V MPFI DOHC</td>\n",
       "      <td>1C4RJFBG4KC787196</td>\n",
       "      <td>15,102 mi.</td>\n",
       "      <td>$34,990</td>\n",
       "    </tr>\n",
       "    <tr>\n",
       "      <th>46</th>\n",
       "      <td>SL-Class SL500</td>\n",
       "      <td>2005</td>\n",
       "      <td>Mercedes-Benz</td>\n",
       "      <td>MD</td>\n",
       "      <td>Black</td>\n",
       "      <td>Gasoline</td>\n",
       "      <td>7-speed automatic driver-adaptive transmission...</td>\n",
       "      <td>5.0L SOHC SMPI 24-valve V8 engine</td>\n",
       "      <td>WDBSK75F95F102702</td>\n",
       "      <td>96,745 mi.</td>\n",
       "      <td>$16,900</td>\n",
       "    </tr>\n",
       "    <tr>\n",
       "      <th>47</th>\n",
       "      <td>Camaro SS</td>\n",
       "      <td>2020</td>\n",
       "      <td>Chevrolet</td>\n",
       "      <td>FL</td>\n",
       "      <td>Shock</td>\n",
       "      <td>Gasoline</td>\n",
       "      <td>6-Speed Manual</td>\n",
       "      <td>6.2L V8 16V GDI OHV</td>\n",
       "      <td>1G1FE1R76L0138091</td>\n",
       "      <td>14,886 mi.</td>\n",
       "      <td>$43,521</td>\n",
       "    </tr>\n",
       "    <tr>\n",
       "      <th>48</th>\n",
       "      <td>Camaro ZL1</td>\n",
       "      <td>2018</td>\n",
       "      <td>Chevrolet</td>\n",
       "      <td>FL</td>\n",
       "      <td>Hyper Blue Metallic</td>\n",
       "      <td>Gasoline</td>\n",
       "      <td>10-Speed Automatic</td>\n",
       "      <td>6.2L V8 16V GDI OHV Supercharged</td>\n",
       "      <td>1G1FK1R65J0145370</td>\n",
       "      <td>24,448 mi.</td>\n",
       "      <td>$58,418</td>\n",
       "    </tr>\n",
       "    <tr>\n",
       "      <th>49</th>\n",
       "      <td>GS 350 Base</td>\n",
       "      <td>2018</td>\n",
       "      <td>Lexus</td>\n",
       "      <td>TX</td>\n",
       "      <td>–</td>\n",
       "      <td>Gasoline</td>\n",
       "      <td>8-Speed Automatic</td>\n",
       "      <td>3.5L V6 24V PDI DOHC</td>\n",
       "      <td>JTHBZ1BL6JA014328</td>\n",
       "      <td>10,531 mi.</td>\n",
       "      <td>$42,998</td>\n",
       "    </tr>\n",
       "  </tbody>\n",
       "</table>\n",
       "</div>"
      ],
      "text/plain": [
       "                         Name  Year   Manufacturer State  \\\n",
       "0        AMG C 43 Base 4MATIC  2019  Mercedes-Benz    CA   \n",
       "1                 Terrain SLT  2018            GMC    TN   \n",
       "2            Romeo Stelvio Ti  2018           Alfa    PA   \n",
       "3         Aviator Reserve AWD  2020        Lincoln    WI   \n",
       "4            XC60 T6 Momentum  2021          Volvo    WA   \n",
       "5   Wrangler Unlimited Sahara  2020           Jeep    SC   \n",
       "6                CX-5 Touring  2020          Mazda    FL   \n",
       "7         GLC 300 Base 4MATIC  2020  Mercedes-Benz    CA   \n",
       "8                 LC 500 Base  2018          Lexus    MD   \n",
       "9                  Fusion SEL  2020           Ford    UT   \n",
       "10                NX 300 Base  2019          Lexus    OH   \n",
       "11  Wrangler Unlimited Sahara  2020           Jeep    SC   \n",
       "12                    Kona SE  2019        Hyundai    SC   \n",
       "13       A7 3.0T Premium Plus  2016           Audi    VA   \n",
       "14            CT6 3.6L Luxury  2018       Cadillac    MI   \n",
       "15    Atlas 3.6 V6 SEL R-Line  2019     Volkswagen    VA   \n",
       "16   S5 3.0T Prestige quattro  2014           Audi    IL   \n",
       "17               CX-5 Touring  2020          Mazda    FL   \n",
       "18            Romeo Giulia Ti  2020           Alfa    NJ   \n",
       "19              Edge Titanium  2018           Ford    MN   \n",
       "20              Edge Titanium  2018           Ford    MN   \n",
       "21       C-Class C 300 4MATIC  2019  Mercedes-Benz    FL   \n",
       "22              Edge Titanium  2018           Ford    MN   \n",
       "23           Santa Fe SEL 2.4  2020        Hyundai    NC   \n",
       "24     RDX Technology Package  2017          Acura    MD   \n",
       "25                  RS 5 2.9T  2019           Audi    OR   \n",
       "26    Corvette Stingray w/2LT  2021      Chevrolet    AZ   \n",
       "27    Corvette Stingray w/2LT  2021      Chevrolet    AZ   \n",
       "28                   Camry SE  2021         Toyota    FL   \n",
       "29       A6 3.0T Premium Plus  2016           Audi    IL   \n",
       "30          Compass Trailhawk  2020           Jeep    CO   \n",
       "31       C-Class C 300 4MATIC  2018  Mercedes-Benz    MO   \n",
       "32             Mazda3 i Sport  2016          Mazda    FL   \n",
       "33     Grand Cherokee Limited  2018           Jeep    FL   \n",
       "34                GX 460 Base  2020          Lexus    CT   \n",
       "35    Grand Cherokee Altitude  2020           Jeep    MO   \n",
       "36       E-Class E 350 4MATIC  2014  Mercedes-Benz    IL   \n",
       "37                   LS 460 L  2014          Lexus    VA   \n",
       "38     Grand Cherokee Limited  2018           Jeep    FL   \n",
       "39       S4 3.0T Premium Plus  2019           Audi    MA   \n",
       "40                    M4 Base  2015            BMW    NC   \n",
       "41                  CR-V EX-L  2017          Honda    MO   \n",
       "42        GLE 350 Base 4MATIC  2017  Mercedes-Benz    CA   \n",
       "43         Sierra 1500 Denali  2018            GMC    AL   \n",
       "44              GX 460 Luxury  2016          Lexus    IL   \n",
       "45     Grand Cherokee Limited  2019           Jeep    NY   \n",
       "46             SL-Class SL500  2005  Mercedes-Benz    MD   \n",
       "47                  Camaro SS  2020      Chevrolet    FL   \n",
       "48                 Camaro ZL1  2018      Chevrolet    FL   \n",
       "49                GS 350 Base  2018          Lexus    TX   \n",
       "\n",
       "                                 Color  Fuel type  \\\n",
       "0                                Black  Gasoline    \n",
       "1               Graphite Gray Metallic  Gasoline    \n",
       "2               Vulcano Black Metallic  Gasoline    \n",
       "3                         Blue Diamond  Gasoline    \n",
       "4                  Fusion Red Metallic  Gasoline    \n",
       "5     Billet Silver Metallic Clearcoat  Gasoline    \n",
       "6                Snowflake White Pearl  Gasoline    \n",
       "7              Iridium Silver Metallic  Gasoline    \n",
       "8                               Caviar  Gasoline    \n",
       "9                         Oxford White  Gasoline    \n",
       "10                              Caviar  Gasoline    \n",
       "11              Bright White Clearcoat  Gasoline    \n",
       "12                         Chalk White  Gasoline    \n",
       "13             Moonlight Blue Metallic  Gasoline    \n",
       "14                Satin Steel Metallic  Gasoline    \n",
       "15             Deep Black Pearl Effect  Gasoline    \n",
       "16                               Black  Gasoline    \n",
       "17               Machine Gray Metallic  Gasoline    \n",
       "18                               White  Gasoline    \n",
       "19                        Shadow Black  Gasoline    \n",
       "20                                Gray  Gasoline    \n",
       "21              Graphite Gray Metallic  Gasoline    \n",
       "22             Lightning Blue Metallic  Gasoline    \n",
       "23                        Quartz White  Gasoline    \n",
       "24                               White  Gasoline    \n",
       "25           Daytona Gray Pearl Effect  Gasoline    \n",
       "26                           Torch Red  Gasoline    \n",
       "27                                 Red  Gasoline    \n",
       "28                   Predawn Gray Mica  Gasoline    \n",
       "29               Mythos Black Metallic  Gasoline    \n",
       "30                   Redline Pearlcoat  Gasoline    \n",
       "31             Iridium Silver Metallic  Gasoline    \n",
       "32                      Jet Black Mica  Gasoline    \n",
       "33  Granite Crystal Clearcoat Metallic  Gasoline    \n",
       "34                      Starfire Pearl  Gasoline    \n",
       "35                Sting Gray Clearcoat  Gasoline    \n",
       "36             Iridium Silver Metallic  Gasoline    \n",
       "37                      Starfire Pearl  Gasoline    \n",
       "38  Granite Crystal Clearcoat Metallic  Gasoline    \n",
       "39              Glacier White Metallic  Gasoline    \n",
       "40             Black Sapphire Metallic  Gasoline    \n",
       "41                 White Diamond Pearl  Gasoline    \n",
       "42                               White  Gasoline    \n",
       "43                               Black  Gasoline    \n",
       "44                      Starfire Pearl  Gasoline    \n",
       "45                Slate Blue Pearlcoat  Gasoline    \n",
       "46                               Black  Gasoline    \n",
       "47                               Shock  Gasoline    \n",
       "48                 Hyper Blue Metallic  Gasoline    \n",
       "49                                   –  Gasoline    \n",
       "\n",
       "                                         Transmission  \\\n",
       "0                                   9-Speed Automatic   \n",
       "1                                   9-Speed Automatic   \n",
       "2                                   8-Speed Automatic   \n",
       "3                                  10-Speed Automatic   \n",
       "4                                   8-Speed Automatic   \n",
       "5                                   8-Speed Automatic   \n",
       "6                                   6-Speed Automatic   \n",
       "7                                           Automatic   \n",
       "8                                  10-Speed Automatic   \n",
       "9                                   6-Speed Automatic   \n",
       "10                                  6-Speed Automatic   \n",
       "11                                  8-Speed Automatic   \n",
       "12                                  6-Speed Automatic   \n",
       "13                                  8-Speed Automatic   \n",
       "14                                  8-Speed Automatic   \n",
       "15                                  8-Speed Automatic   \n",
       "16                  7-Speed Automatic with Auto-Shift   \n",
       "17                                  6-Speed Automatic   \n",
       "18                                  8-Speed Automatic   \n",
       "19                                  6-Speed Automatic   \n",
       "20                                  6-Speed Automatic   \n",
       "21                                  9-Speed Automatic   \n",
       "22                                  6-Speed Automatic   \n",
       "23                                  8-Speed Automatic   \n",
       "24                                  6-Speed Automatic   \n",
       "25                                  8-Speed Automatic   \n",
       "26                  8-Speed Automatic with Auto-Shift   \n",
       "27                  8-Speed Automatic with Auto-Shift   \n",
       "28                                  8-Speed Automatic   \n",
       "29                                  8-Speed Automatic   \n",
       "30                                  9-Speed Automatic   \n",
       "31                                  9-Speed Automatic   \n",
       "32                                  6-Speed Automatic   \n",
       "33                                  8-Speed Automatic   \n",
       "34                                  6-Speed Automatic   \n",
       "35                                  8-Speed Automatic   \n",
       "36                                  7-Speed Automatic   \n",
       "37                                  8-Speed Automatic   \n",
       "38                                  8-Speed Automatic   \n",
       "39                                  8-Speed Automatic   \n",
       "40                  7-Speed Automatic with Auto-Shift   \n",
       "41                                      Automatic CVT   \n",
       "42                                  7-Speed Automatic   \n",
       "43                                  8-Speed Automatic   \n",
       "44                                  6-Speed Automatic   \n",
       "45                                  8-Speed Automatic   \n",
       "46  7-speed automatic driver-adaptive transmission...   \n",
       "47                                     6-Speed Manual   \n",
       "48                                 10-Speed Automatic   \n",
       "49                                  8-Speed Automatic   \n",
       "\n",
       "                                              Engine                VIN  \\\n",
       "0                    3.0L V6 24V GDI DOHC Twin Turbo  55SWF6EB8KU291212   \n",
       "1                         2.0L I4 16V GDI DOHC Turbo  3GKALVEX1JL336991   \n",
       "2                         2.0L I4 16V GDI SOHC Turbo  ZASFAKNN5J7B93222   \n",
       "3                    3.0L V6 24V GDI DOHC Twin Turbo  5LM5J7XC1LGL24283   \n",
       "4                               2.0L I4 16V GDI DOHC  YV4A22RK1M1777654   \n",
       "5                         2.0L I4 16V GDI DOHC Turbo  1C4HJXEN7LW204339   \n",
       "6                               2.5L I4 16V GDI DOHC  JM3KFBCM3L0777706   \n",
       "7   Intercooled Turbo Premium Unleaded I-4 2.0 L/121  WDC0G8EB5LF699139   \n",
       "8                               5.0L V8 32V PDI DOHC  JTHHP5AY5JA003020   \n",
       "9                         1.5L I4 16V GDI DOHC Turbo  3FA6P0CD9LR206514   \n",
       "10                        2.0L I4 16V PDI DOHC Turbo  JTJBARBZ2K2193178   \n",
       "11                        2.0L I4 16V GDI DOHC Turbo  1C4HJXEN2LW213871   \n",
       "12                             2.0L I4 16V MPFI DOHC  KM8K12AA9KU335922   \n",
       "13                 3.0L V6 24V GDI DOHC Supercharged  WAUWGAFCXGN056678   \n",
       "14                              3.6L V6 24V GDI DOHC  1G6KD5RS2JU143334   \n",
       "15                              3.6L V6 24V GDI DOHC  1V2RR2CA6KC565169   \n",
       "16                 3.0L V6 24V GDI DOHC Supercharged  WAUVGAFH9EN008125   \n",
       "17                              2.5L I4 16V GDI DOHC  JM3KFBCM3L0768732   \n",
       "18                        2.0L I4 16V GDI SOHC Turbo  ZARFANBN8L7637071   \n",
       "19                             3.5L V6 24V MPFI DOHC  2FMPK4K81JBC34453   \n",
       "20                             3.5L V6 24V MPFI DOHC  2FMPK4K80JBB88534   \n",
       "21                        2.0L I4 16V GDI DOHC Turbo  WDDWK8EB6KF829867   \n",
       "22                             3.5L V6 24V MPFI DOHC  2FMPK4K84JBB31091   \n",
       "23                              2.4L I4 16V GDI DOHC  5NMS33AD9LH217540   \n",
       "24                             3.5L V6 24V MPFI SOHC  5J8TB4H56HL001048   \n",
       "25                   2.9L V6 24V GDI DOHC Twin Turbo  WUABWCF53KA901343   \n",
       "26                               6.2L V8 16V GDI OHV  1G1YB3D40M5108552   \n",
       "27                               6.2L V8 16V GDI OHV  1G1YB2D42M5120180   \n",
       "28                              2.5L I4 16V PDI DOHC  4T1G11AK3MU514047   \n",
       "29                 3.0L V6 24V GDI DOHC Supercharged  WAUFGAFC0GN111395   \n",
       "30                             2.4L I4 16V MPFI SOHC  3C4NJDDB9LT195464   \n",
       "31                        2.0L I4 16V GDI DOHC Turbo  WDDWF4KBXJR412590   \n",
       "32                              2.0L I4 16V GDI DOHC  3MZBM1T72GM310036   \n",
       "33                             3.6L V6 24V MPFI DOHC  1C4RJEBG6JC110661   \n",
       "34                             4.6L V8 32V MPFI DOHC  JTJAM7BX3L5247741   \n",
       "35                             3.6L V6 24V MPFI DOHC  1C4RJFAGXLC104243   \n",
       "36                              3.5L V6 24V GDI DOHC  WDDHF8JB9EA894605   \n",
       "37                              4.6L V8 32V PDI DOHC  JTHDL5EFXE5006514   \n",
       "38                             3.6L V6 24V MPFI DOHC  1C4RJFBG4JC333237   \n",
       "39                        3.0L V6 24V GDI DOHC Turbo  WAUB4AF49KA027382   \n",
       "40                   3.0L I6 24V GDI DOHC Twin Turbo  WBS3R9C5XFK334055   \n",
       "41                        1.5L I4 16V GDI DOHC Turbo  5J6RW2H80HL021060   \n",
       "42                              3.5L V6 24V GDI DOHC  4JGDA5HB3HA974137   \n",
       "43                               5.3L V8 16V GDI OHV  3GTU2PEC5JG321939   \n",
       "44                             4.6L V8 32V MPFI DOHC  JTJJM7FX7G5134195   \n",
       "45                             3.6L V6 24V MPFI DOHC  1C4RJFBG4KC787196   \n",
       "46                 5.0L SOHC SMPI 24-valve V8 engine  WDBSK75F95F102702   \n",
       "47                               6.2L V8 16V GDI OHV  1G1FE1R76L0138091   \n",
       "48                  6.2L V8 16V GDI OHV Supercharged  1G1FK1R65J0145370   \n",
       "49                              3.5L V6 24V PDI DOHC  JTHBZ1BL6JA014328   \n",
       "\n",
       "       Mileage     Price  \n",
       "0   24,076 mi.   $54,392  \n",
       "1   45,278 mi.   $26,659  \n",
       "2   13,690 mi.   $34,998  \n",
       "3    3,104 mi.   $55,995  \n",
       "4   18,378 mi.   $46,880  \n",
       "5   48,942 mi.   $41,889  \n",
       "6   49,937 mi.   $22,939  \n",
       "7   14,317 mi.   $45,991  \n",
       "8   65,360 mi.   $67,390  \n",
       "9   48,712 mi.   $20,489  \n",
       "10  20,476 mi.   $35,923  \n",
       "11  45,838 mi.   $41,819  \n",
       "12  12,207 mi.   $20,489  \n",
       "13  69,979 mi.   $35,980  \n",
       "14  50,898 mi.   $39,765  \n",
       "15  14,283 mi.   $38,500  \n",
       "16  62,330 mi.   $26,900  \n",
       "17  49,444 mi.   $23,389  \n",
       "18  11,038 mi.   $43,299  \n",
       "19  23,914 mi.   $35,455  \n",
       "20  58,455 mi.   $29,695  \n",
       "21  19,665 mi.   $51,999  \n",
       "22  33,893 mi.   $31,999  \n",
       "23  23,719 mi.   $27,629  \n",
       "24  46,735 mi.   $27,991  \n",
       "25  12,141 mi.   $76,648  \n",
       "26   3,717 mi.  $114,000  \n",
       "27   1,274 mi.  $109,991  \n",
       "28  10,072 mi.   $26,999  \n",
       "29  87,019 mi.   $22,987  \n",
       "30  47,270 mi.   $24,469  \n",
       "31  23,963 mi.   $35,750  \n",
       "32  69,737 mi.   $11,994  \n",
       "33  49,527 mi.   $25,984  \n",
       "34  29,498 mi.   $52,000  \n",
       "35  66,508 mi.   $38,900  \n",
       "36  55,707 mi.   $22,889  \n",
       "37  62,769 mi.   $33,895  \n",
       "38  16,873 mi.   $32,999  \n",
       "39  19,324 mi.   $40,995  \n",
       "40  62,495 mi.   $43,995  \n",
       "41  70,288 mi.   $25,236  \n",
       "42  24,380 mi.   $35,990  \n",
       "43  53,734 mi.   $46,871  \n",
       "44  53,898 mi.   $38,995  \n",
       "45  15,102 mi.   $34,990  \n",
       "46  96,745 mi.   $16,900  \n",
       "47  14,886 mi.   $43,521  \n",
       "48  24,448 mi.   $58,418  \n",
       "49  10,531 mi.   $42,998  "
      ]
     },
     "execution_count": 87,
     "metadata": {},
     "output_type": "execute_result"
    }
   ],
   "source": [
    "df1.head(50)"
   ]
  },
  {
   "cell_type": "code",
   "execution_count": 89,
   "metadata": {
    "scrolled": false
   },
   "outputs": [
    {
     "name": "stdout",
     "output_type": "stream",
     "text": [
      "False    9953\n",
      "True        6\n",
      "dtype: int64\n"
     ]
    }
   ],
   "source": [
    "print(df1.duplicated(['Name','Year','Manufacturer','State','Color','Fuel type','Transmission','Engine','VIN','Mileage','Price']).value_counts())"
   ]
  },
  {
   "cell_type": "markdown",
   "metadata": {},
   "source": [
    "Since the web scrapping took a long time, it's better to save it to .csv file for future usage"
   ]
  },
  {
   "cell_type": "code",
   "execution_count": 149,
   "metadata": {},
   "outputs": [],
   "source": [
    "df1.to_csv('cars.csv', index=False)"
   ]
  },
  {
   "cell_type": "markdown",
   "metadata": {},
   "source": [
    "read scrapped data from .csv file"
   ]
  },
  {
   "cell_type": "code",
   "execution_count": 3,
   "metadata": {},
   "outputs": [],
   "source": [
    "df1=pd.DataFrame()\n",
    "df1=pd.read_csv('cars.csv')"
   ]
  },
  {
   "cell_type": "code",
   "execution_count": 4,
   "metadata": {},
   "outputs": [
    {
     "data": {
      "text/plain": [
       "(9959, 11)"
      ]
     },
     "execution_count": 4,
     "metadata": {},
     "output_type": "execute_result"
    }
   ],
   "source": [
    "df1.shape"
   ]
  },
  {
   "cell_type": "code",
   "execution_count": 5,
   "metadata": {},
   "outputs": [
    {
     "data": {
      "text/plain": [
       "Index(['Name', 'Year', 'Manufacturer', 'State', 'Color', 'Fuel type',\n",
       "       'Transmission', 'Engine', 'VIN', 'Mileage', 'Price'],\n",
       "      dtype='object')"
      ]
     },
     "execution_count": 5,
     "metadata": {},
     "output_type": "execute_result"
    }
   ],
   "source": [
    "df1.columns"
   ]
  },
  {
   "cell_type": "code",
   "execution_count": 6,
   "metadata": {},
   "outputs": [
    {
     "name": "stdout",
     "output_type": "stream",
     "text": [
      "False    9953\n",
      "True        6\n",
      "dtype: int64\n"
     ]
    }
   ],
   "source": [
    "print(df1.duplicated(['Name','Year','Manufacturer','State','Color','Fuel type','Transmission','Engine','VIN','Mileage','Price']).value_counts())"
   ]
  },
  {
   "cell_type": "code",
   "execution_count": 7,
   "metadata": {},
   "outputs": [
    {
     "data": {
      "text/plain": [
       "array(['Gasoline ', 'Electric ', 'Hybrid ', 'Diesel ', 'E85 Flex Fuel ',\n",
       "       '– ', 'Flexible Fuel ', 'Gasoline Fuel '], dtype=object)"
      ]
     },
     "execution_count": 7,
     "metadata": {},
     "output_type": "execute_result"
    }
   ],
   "source": [
    "df1['Fuel type'].unique()"
   ]
  },
  {
   "cell_type": "code",
   "execution_count": 8,
   "metadata": {},
   "outputs": [],
   "source": [
    "df1['Fuel type']=df1['Fuel type'].str.strip()\n",
    "df1['Fuel type'].replace({'Gasoline Fuel': 'Gasoline', 'E85 Flex Fuel': 'Flexible','Flexible Fuel':'Flexible','–':np.NaN}, inplace=True)"
   ]
  },
  {
   "cell_type": "code",
   "execution_count": 9,
   "metadata": {},
   "outputs": [
    {
     "data": {
      "text/plain": [
       "array(['Gasoline', 'Electric', 'Hybrid', 'Diesel', 'Flexible', nan],\n",
       "      dtype=object)"
      ]
     },
     "execution_count": 9,
     "metadata": {},
     "output_type": "execute_result"
    }
   ],
   "source": [
    "df1['Fuel type'].unique()"
   ]
  },
  {
   "cell_type": "code",
   "execution_count": 10,
   "metadata": {
    "scrolled": false
   },
   "outputs": [
    {
     "data": {
      "text/plain": [
       "array(['9-Speed Automatic', '8-Speed Automatic', '10-Speed Automatic',\n",
       "       '6-Speed Automatic', 'Automatic',\n",
       "       '7-Speed Automatic with Auto-Shift',\n",
       "       '8-Speed Automatic with Auto-Shift', '7-Speed Automatic',\n",
       "       'Automatic CVT',\n",
       "       '7-speed automatic driver-adaptive transmission-inc',\n",
       "       '6-Speed Manual', '1-Speed Automatic', '5-Speed Automatic',\n",
       "       'Sport Automatic', 'Variable', '6-Speed',\n",
       "       '7-Speed Automatic with Overdrive', '4-Speed Automatic',\n",
       "       'Lineartronic continuously variable transmission (CVT) -inc',\n",
       "       '4-Speed Automatic with Overdrive',\n",
       "       '6-Speed Automatic with Tiptronic',\n",
       "       '6-speed automatic transmission w/SelectShift', '–',\n",
       "       '5-speed automatic electronically controlled transmission w/intel',\n",
       "       '5-speed ECT automatic transmission w/OD',\n",
       "       '9-Speed 948TE Automatic',\n",
       "       '6-speed ECT-i automatic transmission-inc', 'ZF 8-Speed Automatic',\n",
       "       '6-Speed Automatic with Auto-Shift',\n",
       "       'Transmission, 4-speed automatic, electronically controlled with',\n",
       "       'Automatic with Tiptronic', '8-Speed Automatic with SHIFTRONIC',\n",
       "       '2-Speed Automatic', '6-speed manual transmission',\n",
       "       '8-Speed Automatic w/OD',\n",
       "       '7-speed automatic drive-adaptive transmission-inc',\n",
       "       '6-Speed SKYACTIV-MT Manual', 'CVT TRANSMISSION', 'Manual',\n",
       "       '6-speed automatic transmission w/OD, Sequential SportShift, grad',\n",
       "       '6-Speed SelectShift Automatic -inc', '7-Speed',\n",
       "       '6-speed manual transmission w/OD, double-plate clutch',\n",
       "       '5-speed automatic transmission',\n",
       "       'Transmission, 6-speed automatic, electronically controlled with',\n",
       "       '5-speed automatic transmission -inc',\n",
       "       'Automatic CVT with Sport Mode', 'Single-Speed Fixed Gear',\n",
       "       '6-speed SelectShift automatic transmission',\n",
       "       '5-speed automatic transmission w/OD',\n",
       "       'Continuously variable transmission (ECVT)',\n",
       "       '8-speed Sport Automatic transmission -inc',\n",
       "       '6-Speed Automatic Electronic with Overdrive',\n",
       "       '4-speed ECT automatic transmission',\n",
       "       'xtronic continuously variable (cvt)', 'Auto', 'AUTOMATIC',\n",
       "       '6-Speed Electronically Controlled Automatic with O',\n",
       "       '8-Speed Automatic (8HP70)', '10-Speed Automatic with Overdrive',\n",
       "       '6-Speed SelectShift Automatic',\n",
       "       'Lineartronic Continuously Variable -inc', 'eCVT', '8-SPEED A/T',\n",
       "       '5-Speed Manual', '6-speed manual transmission-inc', 'automatic',\n",
       "       '6-speed Geartronic automatic transmission w/OD, winter mode',\n",
       "       '8-Speed Automatic with Tiptronic',\n",
       "       '6-speed manual transmission w/OD',\n",
       "       '7-speed automatic electronically controlled transmission -inc',\n",
       "       'Xtronic continuously variable transmission (CVT)',\n",
       "       '7-Speed Automatic w/Manual Shift Mode -inc',\n",
       "       '4-speed automatic transmission w/OD, grade logic control',\n",
       "       '6-speed automatic transmission w/OD & intelligence (ECT-i)',\n",
       "       '5-Speed Automatic with Tiptronic S',\n",
       "       '6-speed automatic electronically controlled transmission -inc',\n",
       "       '5-speed sequential SportShift automatic transmission w/OD, grade',\n",
       "       '6-speed automatic transmission -inc',\n",
       "       '5-speed automatic transmission w/OD-inc', 'Automatic 7-Speed',\n",
       "       '8 Speed Elect Controlled Auto Transmission w/Inte.',\n",
       "       '8-speed SHIFTRONIC automatic transmission w/OD',\n",
       "       'Compact 5-speed automatic transmission w/OD', 'Lineartronic CVT',\n",
       "       '5-Speed Automatic with Overdrive',\n",
       "       'Engine, 3.6L V6 VVT (255 HP [190.2 kW] @ 6500 rpm, 254 lb.-ft.',\n",
       "       'Transmission, 6-speed automatic',\n",
       "       '7-Speed S tronic Automatic -inc', 'Auto, 8-Spd w/SM',\n",
       "       'Continuously Variable', '4-Speed Automatic VLP',\n",
       "       'Electronic 6-Speed ECT-i Automatic -inc',\n",
       "       '8-Speed ZF Automatic with QuickShift',\n",
       "       '5-speed ECT-i automatic transmission w/OD, snow mode',\n",
       "       'Xtronic CVT -inc',\n",
       "       '5-speed Geartronic automatic transmission-inc',\n",
       "       'Transmission, 9-speed automatic',\n",
       "       '5-speed automatic electronically controlled transmission w/OD',\n",
       "       '6-speed automatic transmission w/OD, Tiptronic, sport mode',\n",
       "       '5-speed automatic driver-adaptive transmission-inc',\n",
       "       'Transmission, 6-speed manual with triple overdrive ECO gear set',\n",
       "       '7-speed driver adaptive automatic transmission -inc',\n",
       "       '5-speed automatic ECT-i transmission w/OD & sequential shift',\n",
       "       '5-Speed Manual with Overdrive', '8-Speed Automatic (845RE)',\n",
       "       '5-speed automatic transmission w/OD & intelligence (ECT-i)',\n",
       "       '4-speed automatic transmission w/OD',\n",
       "       '6-Speed Electronically Controlled Automatic',\n",
       "       '8-Speed Automatic with Overdrive', 'Automatic 8-Speed',\n",
       "       '7-Speed Manual', 'Continuously Variable (CVT) -inc',\n",
       "       '8-Speed Automatic w/STEPTRONIC', 'Lineartronic CVT -inc',\n",
       "       '6-speed Tiptronic automatic transmission'], dtype=object)"
      ]
     },
     "execution_count": 10,
     "metadata": {},
     "output_type": "execute_result"
    }
   ],
   "source": [
    "df1['Transmission'].unique()"
   ]
  },
  {
   "cell_type": "code",
   "execution_count": 11,
   "metadata": {},
   "outputs": [
    {
     "name": "stdout",
     "output_type": "stream",
     "text": [
      "8-Speed Automatic                             3117\n",
      "6-Speed Automatic                             2160\n",
      "Automatic CVT                                 1054\n",
      "9-Speed Automatic                              800\n",
      "10-Speed Automatic                             596\n",
      "                                              ... \n",
      "Auto                                             1\n",
      "5-speed automatic transmission w/OD-inc          1\n",
      "7-Speed Automatic w/Manual Shift Mode -inc       1\n",
      "Auto, 8-Spd w/SM                                 1\n",
      "9-Speed 948TE Automatic                          1\n",
      "Name: Transmission, Length: 116, dtype: int64\n"
     ]
    }
   ],
   "source": [
    "print(df1['Transmission'].value_counts())"
   ]
  },
  {
   "cell_type": "markdown",
   "metadata": {},
   "source": [
    "Change the **format** of Transmission column"
   ]
  },
  {
   "cell_type": "code",
   "execution_count": 12,
   "metadata": {},
   "outputs": [],
   "source": [
    "df1['Transmission'][(df1['Transmission'].str.contains('CVT', case=False))]='CVT'\n",
    "df1['Transmission'][(df1['Transmission'].str.contains('Variable', case=False))]='CVT'\n",
    "df1['Transmission'][(df1['Transmission'].str.contains('Automatic', case=False))]='Automatic'\n",
    "df1['Transmission'][(df1['Transmission'].str.contains('Auto', case=False))]='Automatic'\n",
    "df1['Transmission'][(df1['Transmission'].str.contains('A/T', case=False))]='Automatic'\n",
    "df1['Transmission'][(df1['Transmission'].str.contains('manual', case=False))]='Manual'\n",
    "df1['Transmission']=df1['Transmission'].replace('–',np.nan)"
   ]
  },
  {
   "cell_type": "code",
   "execution_count": 13,
   "metadata": {
    "scrolled": true
   },
   "outputs": [
    {
     "name": "stdout",
     "output_type": "stream",
     "text": [
      "Automatic                                                         8681\n",
      "CVT                                                               1101\n",
      "Manual                                                             149\n",
      "6-Speed                                                              7\n",
      "7-Speed                                                              3\n",
      "Single-Speed Fixed Gear                                              1\n",
      "Engine, 3.6L V6 VVT (255 HP [190.2 kW] @ 6500 rpm, 254 lb.-ft.       1\n",
      "Name: Transmission, dtype: int64\n"
     ]
    }
   ],
   "source": [
    "print(df1['Transmission'].value_counts())"
   ]
  },
  {
   "cell_type": "markdown",
   "metadata": {},
   "source": [
    "Drop rows which doesn't belong to standard format"
   ]
  },
  {
   "cell_type": "code",
   "execution_count": 14,
   "metadata": {},
   "outputs": [],
   "source": [
    "# drop all other rows\n",
    "df1 = df1[df1.Transmission.isin(['Automatic', 'CVT','Manual',np.NaN])]"
   ]
  },
  {
   "cell_type": "code",
   "execution_count": 15,
   "metadata": {},
   "outputs": [
    {
     "name": "stdout",
     "output_type": "stream",
     "text": [
      "Automatic    8681\n",
      "CVT          1101\n",
      "Manual        149\n",
      "Name: Transmission, dtype: int64\n"
     ]
    }
   ],
   "source": [
    "print(df1['Transmission'].value_counts())"
   ]
  },
  {
   "cell_type": "code",
   "execution_count": 16,
   "metadata": {},
   "outputs": [
    {
     "data": {
      "text/plain": [
       "array(['Automatic', 'CVT', 'Manual', nan], dtype=object)"
      ]
     },
     "execution_count": 16,
     "metadata": {},
     "output_type": "execute_result"
    }
   ],
   "source": [
    "df1['Transmission'].unique()"
   ]
  },
  {
   "cell_type": "markdown",
   "metadata": {},
   "source": [
    "Change the format of Engine column to match the one in additional dataset"
   ]
  },
  {
   "cell_type": "code",
   "execution_count": 17,
   "metadata": {},
   "outputs": [
    {
     "data": {
      "text/plain": [
       "array(['3.0L V6 24V GDI DOHC Twin Turbo', '2.0L I4 16V GDI DOHC Turbo',\n",
       "       '2.0L I4 16V GDI SOHC Turbo', '2.0L I4 16V GDI DOHC',\n",
       "       '2.5L I4 16V GDI DOHC',\n",
       "       'Intercooled Turbo Premium Unleaded I-4 2.0 L/121',\n",
       "       '5.0L V8 32V PDI DOHC', '1.5L I4 16V GDI DOHC Turbo',\n",
       "       '2.0L I4 16V PDI DOHC Turbo', '2.0L I4 16V MPFI DOHC',\n",
       "       '3.0L V6 24V GDI DOHC Supercharged', '3.6L V6 24V GDI DOHC',\n",
       "       '3.5L V6 24V MPFI DOHC', '2.4L I4 16V GDI DOHC',\n",
       "       '3.5L V6 24V MPFI SOHC', '2.9L V6 24V GDI DOHC Twin Turbo',\n",
       "       '6.2L V8 16V GDI OHV', '2.5L I4 16V PDI DOHC',\n",
       "       '2.4L I4 16V MPFI SOHC', '3.6L V6 24V MPFI DOHC',\n",
       "       '4.6L V8 32V MPFI DOHC', '3.5L V6 24V GDI DOHC',\n",
       "       '4.6L V8 32V PDI DOHC', '3.0L V6 24V GDI DOHC Turbo',\n",
       "       '3.0L I6 24V GDI DOHC Twin Turbo', '5.3L V8 16V GDI OHV',\n",
       "       '5.0L SOHC SMPI 24-valve V8 engine',\n",
       "       '6.2L V8 16V GDI OHV Supercharged', '3.5L V6 24V PDI DOHC',\n",
       "       '4.0L V8 32V GDI DOHC Twin Turbo', 'Electric',\n",
       "       '3.0L I6 24V GDI DOHC Turbo', '4.2L V8 32V MPFI DOHC',\n",
       "       'Intercooled Turbo Regular Unleaded I-4 2.5 L/152',\n",
       "       '2.5L I5 20V MPFI DOHC Turbo', '2.5L I4 16V MPFI DOHC',\n",
       "       '1.8L I4 16V MPFI DOHC', '2.3L I4 16V GDI DOHC Turbo',\n",
       "       '4.0L V6 24V MPFI DOHC', '1.5L I4 16V MPFI DOHC Hybrid',\n",
       "       '5.7L V8 16V MPFI OHV', '3.0L V6 24V DDI DOHC Turbo Diesel',\n",
       "       '3.5L V6 24V GDI DOHC Twin Turbo',\n",
       "       '4.4L V8 32V GDI DOHC Twin Turbo', '1.4L I4 16V GDI DOHC Turbo',\n",
       "       '3.8L V6 24V GDI DOHC', '2.5L I4 16V GDI DOHC Turbo',\n",
       "       '3.5L V6 24V GDI SOHC',\n",
       "       '6.0L W12 48V MPFI DOHC Twin Turbo Flexible Fuel',\n",
       "       '5.6L V8 32V GDI DOHC', '1.8L I4 16V MPFI DOHC Hybrid',\n",
       "       '6.2L V8 16V MPFI OHV Flexible Fuel', 'Gas/Ethanol V8 5.3L/',\n",
       "       '3.2L V6 24V MPFI DOHC',\n",
       "       'Engine: 2.0L DOHC 16-Valve 4-Cylinder Turbocharged',\n",
       "       '2.0L H4 16V GDI DOHC',\n",
       "       'Intercooled Turbo Premium Unleaded I-4 2.0 L/122',\n",
       "       '3.4L H6 24V GDI DOHC',\n",
       "       'Intercooled Turbo Premium Unleaded I-6 3.0 L/182',\n",
       "       '5.2L V10 40V GDI DOHC', '5.0L V8 32V GDI DOHC',\n",
       "       '5.6L V8 32V MPFI DOHC', '2.7L V6 24V GDI DOHC Twin Turbo',\n",
       "       '2.4L I4 16V MPFI DOHC', 'Premium Unleaded V-6 3.5 L/213',\n",
       "       '5.3L V8 16V MPFI OHV Flexible Fuel',\n",
       "       '3.6L V6 24V GDI DOHC Twin Turbo', '6.4L V8 16V MPFI OHV',\n",
       "       '6.6L V8 32V DDI OHV Turbo Diesel', 'Turbo Gas/Ethanol I4 1.5L/',\n",
       "       '8 Cylinder Engine', '2.7L V6 24V PDI DOHC Twin Turbo',\n",
       "       'Premium Unleaded V-8 4.6 L/281',\n",
       "       '3.5L V6 24V PDI DOHC Twin Turbo',\n",
       "       'Regular Unleaded I-4 2.0 L/122', '2.5L H4 16V MPFI DOHC',\n",
       "       '5.7L V8 32V MPFI DOHC', '4.3L V8 32V MPFI DOHC',\n",
       "       '3.7L V6 24V MPFI DOHC', '5.4L V8 24V MPFI SOHC Flexible Fuel',\n",
       "       'V6 Cylinder Engine', '2.0L I4 16V GDI DOHC Hybrid',\n",
       "       '2.5L V6 Cylinder Engine', 'Regular Unleaded V-8 5.0 L',\n",
       "       '2.0L I4 16V GDI DOHC Turbo Hybrid', '3.0L V6 24V MPFI DOHC',\n",
       "       '2.5L I4 16V', '6.0L V8 16V MPFI OHV',\n",
       "       'Regular Unleaded V-6 4.0 L/241',\n",
       "       '4.7L V8 32V GDI DOHC Twin Turbo',\n",
       "       '5.0L V8 32V GDI DOHC Supercharged', '4.7L V8 32V MPFI DOHC',\n",
       "       '4.8L V8 32V GDI DOHC', '2.5L I4 16V MPFI DOHC Hybrid', '6.0L',\n",
       "       '1.4L I4 16V MPFI DOHC Turbo', 'Gas V6 3.7L/224',\n",
       "       '6.2L V8 16V MPFI OHV Supercharged',\n",
       "       '3.6L V6 24V MPFI DOHC Flexible Fuel', 'VORTEC',\n",
       "       '3.3L V6 24V PDI DOHC Flexible Fuel',\n",
       "       '3.0L V6 24V DI DOHC Turbo Diesel',\n",
       "       '3.0L V6 24V GDI DOHC Supercharged Hybrid',\n",
       "       '2.0L I4 16V MPFI DOHC Hybrid',\n",
       "       '2.5L DOHC SMPI 16-valve 4-cyl boxer engine -inc: active valve co',\n",
       "       'Twin Turbo Premium Unleaded V-6 3.0 L/183', '2.0L',\n",
       "       '5.3L V8 16V MPFI OHV', '3.3L V6 24V GDI DOHC',\n",
       "       '1.5L I3 12V GDI DOHC Turbo', '3.8L H6 24V GDI DOHC', '1.4L I4',\n",
       "       '4.2L I6 24V MPFI DOHC', '2.5L i-VCT I4 engine',\n",
       "       '2.5L I4 16V PDI DOHC Hybrid',\n",
       "       '5.7L V8 32V MPFI DOHC Flexible Fuel',\n",
       "       '5.5L V8 32V GDI DOHC Twin Turbo',\n",
       "       'Intercooled Turbo Regular Unleaded I-4 1.5 L/91',\n",
       "       '2.0L I4 16V DDI DOHC Turbo Diesel',\n",
       "       '4.3L V6 12V GDI OHV Flexible Fuel',\n",
       "       'Engine: 2.0L Turbo I4 -inc: ECO stop/start technology FFV option',\n",
       "       '4.4L V8 32V MPFI DOHC', 'Regular Unleaded V-6 3.5 L/212',\n",
       "       '3.2L I6 24V MPFI DOHC', 'V6',\n",
       "       '3.3L DOHC EFI 24-valve V6 engine-inc: continuously variable valv',\n",
       "       '4.0L DOHC SMPI 24-valve VVT-i V6 engine', '4 Cylinder Engine',\n",
       "       'Turbocharged Diesel V8 6.6L/403', '3.2L V6 24V GDI DOHC',\n",
       "       'Gas V8 5.7L/345', '3.0L V6 24V GDI DOHC Twin Turbo Hybrid',\n",
       "       '2.0L H4 16V GDI DOHC Turbo',\n",
       "       '5.7L DOHC EFI 32-valve V8 engine w/dual independent VVT-i',\n",
       "       '2.7L I4 16V MPFI DOHC', '3.0L V6 24V GDI DOHC Turbo Hybrid',\n",
       "       '5.0L V8 32V MPFI DOHC', '3.3L V6 24V GDI DOHC Twin Turbo',\n",
       "       '4.6L V8 16V MPFI SOHC', 'Engine: 3.0L Twin Turbo V6',\n",
       "       '3.6L H6 24V MPFI DOHC',\n",
       "       'Engine, Vortec 5.3L V8 SFI FlexFuel with Active Fuel Management',\n",
       "       '3.0L V6 24V GDI DOHC', '2.5L V6 24V',\n",
       "       'Premium Unleaded V-6 3.5 L/212', '2.5L H4 16V GDI DOHC',\n",
       "       'Gas I4 2.4/145', '3.7L V6 24V MPFI SOHC',\n",
       "       '4.8L V8 32V GDI DOHC Twin Turbo', '2.5L V6 24V GDI DOHC',\n",
       "       'Gas V8 5.3L/325', '5.0L V10 40V MPFI DOHC', '2.9L V6',\n",
       "       '3.0L I6 24V MPFI DOHC', '3.8L H6 24V GDI DOHC Twin Turbo',\n",
       "       '5.4L V8 24V MPFI SOHC', '1.5L I4 16V GDI DOHC Hybrid',\n",
       "       'Intercooled Turbo Premium Unleaded I-6 3.0 L/183', '2.0L I4', '–',\n",
       "       '6.7L I6 24V DDI OHV Turbo Diesel', '3.3L V6 24V MPFI DOHC',\n",
       "       '3.6L V6 24V MPFI DOHC Hybrid', 'Regular Unleaded V-6 3.5 L/213',\n",
       "       '3.0-liter dual overhead cam (DOHC), 24-valve inline 230-horsepow',\n",
       "       'Gas V6 3.5L/212', '3.5L V6 24V MPFI DOHC Hybrid',\n",
       "       'Intercooled Supercharger Premium Unleaded V-6 3.0 L/183',\n",
       "       '2.0L H4 16V MPFI DOHC', '3.6L H6 12V MPFI SOHC',\n",
       "       '5.0L SOHC SMPI V8 engine', '1.4L I4 16V MPFI DOHC',\n",
       "       'Engine: 2.5L SKYACTIV-G DOHC 16-Valve 4-Cylinder -inc: variable',\n",
       "       '3.5L V6 24V MPFI DOHC Flexible Fuel', 'I4',\n",
       "       '5.0L V8 32V MPFI DOHC Flexible Fuel',\n",
       "       '6.7L V8 32V DDI OHV Turbo Diesel',\n",
       "       '3.5L V6 24V GDI DOHC Flexible Fuel', '5.0L V8 24V MPFI SOHC',\n",
       "       'Twin Turbo Regular Unleaded V-6 3.5 L/213', '3.0L V6',\n",
       "       'Regular Unleaded V-6 3.6 L/220', '2.3L I4 16V MPFI DOHC Turbo',\n",
       "       '2.7L V6 24V MPFI DOHC', '1.6L I4 16V GDI DOHC Hybrid',\n",
       "       '2.2L I4 16V MPFI DOHC', '6.0L W12 60V MPFI DOHC Twin Turbo', 'V8',\n",
       "       '4.5L V8 32V MPFI DOHC', '3.0L H6 24V GDI DOHC Twin Turbo',\n",
       "       '3.7L I5 20V MPFI DOHC', 'Twin Turbo Gas/Electric V-6 2.9 L/177',\n",
       "       '5.5L V8 32V MPFI DOHC', '1.6L I4 16V MPFI DOHC',\n",
       "       '4.8L V8 32V MPFI DOHC', 'Gas I4 2.0L/122', 'Gas V6 3.6L/222.6',\n",
       "       '1.8L I4 16V GDI DOHC Turbo', 'Gas V6 3.6L/222',\n",
       "       'Regular Unleaded I-4 2.5 L/152', '2.4L H4 16V GDI DOHC Turbo',\n",
       "       '3.7L SOHC 24-valve VTEC V6 engine', 'Gas V8 6.2L/376',\n",
       "       '2.5L H4 16V MPFI SOHC',\n",
       "       'Engine, 3500 V6 SFI (200 HP [149.1 kW] @ 5400 rpm, 220 lb.-ft. [',\n",
       "       'Engine: 3.5L V6 EcoBoost', '1.6L I4 16V PDI DOHC Turbo',\n",
       "       '1.8L I4 16V MPFI SOHC', '2.5L I5 20V PDI DOHC Turbo',\n",
       "       '4.0L V8 32V MPFI DOHC', '3.0L H6 24V MPFI DOHC',\n",
       "       '4.0L DOHC 32-valve V8 engine w/double-VANOS variable valve timin',\n",
       "       '1.6L I4 16V GDI DOHC', 'Regular Unleaded 2.7 L EcoBoost',\n",
       "       '5.8L V8 32V MPFI DOHC Supercharged',\n",
       "       '4.0L DOHC SMPI 24-valve V6 engine',\n",
       "       '6.2L V8 16V MPFI SOHC Flexible Fuel', 'Regular Unleaded V8 5.0 L',\n",
       "       '6.2L V8 16V MPFI OHV',\n",
       "       'Engine, Vortec 5.3L V8 SFI FlexFuel with Active Fuel Management,',\n",
       "       '3.5L V6 24V PDI DOHC Hybrid', '4.2L V8 32V GDI DOHC',\n",
       "       'Regular Unleaded I-4 1.8 L/110',\n",
       "       '3.5L DOHC SFI 24-valve dual VVT-i V6 engine',\n",
       "       '1.3L I3 12V GDI DOHC Turbo', 'Premium Unleaded I-4 2.4 L/144',\n",
       "       '3.6L V6 24V GDI DOHC Flexible Fuel',\n",
       "       '6.0L V8 16V MPFI OHV Flexible Fuel',\n",
       "       'Engine: 3.0L Inline 6-Cylinder M TwinPower Turbo',\n",
       "       '4.6L V8 16V MPFI SOHC Flexible Fuel',\n",
       "       '1.0L I3 12V GDI DOHC Turbo', '2.4L I4 16V MPFI DOHC Hybrid',\n",
       "       'Premium Unleaded V-6 3.5 L/211', '3.5L Ti-VCT V6 Engine',\n",
       "       'Gas I4 2.5L/152', '3.6L H6 24V MPFI DOHC Twin Turbo',\n",
       "       '4.0L SOHC 12-valve V6 engine',\n",
       "       '1.8L DOHC 16-valve VVT-i Atkinson-cycle I4 hybrid engine',\n",
       "       'Twin Turbo Premium Unleaded V-6 3.3 L/204',\n",
       "       '2.0L I4 16V GDI DOHC Turbo Flexible Fuel',\n",
       "       '3.0-liter, 300-horsepower, 24-valve inline 6-cylinder dual overh',\n",
       "       'Intercooled Turbo Regular Unleaded I-4 1.4 L/85',\n",
       "       '7.0L V8 16V MPFI OHV', '2.7L H6 24V MPFI DOHC',\n",
       "       '2.0L I4 16V GDI DOHC Flexible Fuel', '1.2L I3 12V GDI DOHC Turbo',\n",
       "       '3.2L H6 24V MPFI DOHC', '2.0L I4 OHV Electric',\n",
       "       '6.0L V8 32V DDI OHV Turbo Diesel',\n",
       "       '3.5L SOHC MPFI 24-valve VTEC V6 engine',\n",
       "       '2.4L DOHC SFI 16-valve VVT-i 4-cyl engine',\n",
       "       'Regular Unleaded I-4 2.4 L/144', '6.6L V8 16V GDI OHV',\n",
       "       '5.3L V8 16V GDI OHV Flexible Fuel', '3.2L V6 24V MPFI SOHC',\n",
       "       '1.6L I4 16V GDI DOHC Turbo', '2.0L I4 16V', '4.0L V6 SMPI DOHC',\n",
       "       'Gas I4 2.2L/131.6', 'Engine: 6.4L V8 SRT HEMI MDS',\n",
       "       'Intercooled Turbo Regular Unleaded I-4 2.0 L/120',\n",
       "       'Gas V6 3.5L/211', 'Twin Turbo Premium Unleaded H-6 3.8 L/232',\n",
       "       '3.8L H6 24V DOHC', '3.6L V6 GDI DOHC',\n",
       "       'Intercooled Supercharger Premium Unleaded V-8 5.0 L/305',\n",
       "       '3.5L V6 24V GDI DOHC Hybrid', '2.0L I4 8V MPFI SOHC',\n",
       "       '4.0L V6 12V MPFI SOHC', '6.4L V8 32V DDI OHV Twin Turbo Diesel',\n",
       "       'Engine: 2.5L DOHC 16 Valve 4-Cylinder -inc: Active Valve Control',\n",
       "       '5.4L V8 16V MPFI SOHC', '4.0L V8 16V MPFI OHV',\n",
       "       '3.0L V6 12V MPFI OHV', '4.2L V8 32V MPFI DOHC Supercharged',\n",
       "       '3.0L', '4.6L V8 24V MPFI SOHC', 'Premium Unleaded V-8 6.4 L/392',\n",
       "       '4.8L V8 16V MPFI OHV',\n",
       "       'Intercooled Turbo Regular Unleaded I-4 2.0 L/121',\n",
       "       'Regular Unleaded V-6 3.5 L/211',\n",
       "       '4.8L DOHC 32-valve V8 engine w/double-VANOS steplessly variable',\n",
       "       '3.4L V6 24V MPFI DOHC', '6.6L V12 48V GDI DOHC Twin Turbo',\n",
       "       'Gas V6 3.5L/214', '2.5L I5 20V MPFI DOHC', 'Gas V6 3.6L/231',\n",
       "       '2.0L I4 16V PDI DOHC', '4.3L V8 32V GDI DOHC', 'Gas V8 4.8L/293',\n",
       "       '2.7L I4 16V GDI DOHC Turbo', '3.2L I6 engine',\n",
       "       '4.0L I6 12V MPFI OHV', '2.5L H4 16V MPFI DOHC Turbo',\n",
       "       '2.5L I4 16V GDI DOHC Flexible Fuel', 'Straight 6 Cylinder Engine',\n",
       "       '3.0L DOHC 24-valve DI I6 twin-turbocharged engine-inc: double-VA',\n",
       "       '3.5L DOHC 24-valve V6 engine',\n",
       "       'Twin Turbo Premium Unleaded V-6 2.7 L/164',\n",
       "       '3.8L V8 32V GDI DOHC Twin Turbo', '1.6L I4 16V MPFI SOHC',\n",
       "       '2.5L DOHC 16-valve I4 engine',\n",
       "       '6.0L W12 48V MPFI DOHC Twin Turbo',\n",
       "       'Intercooled Turbo Gas/Electric I-6 3.0 L/183', '4 Cylinder',\n",
       "       '2.5L I6 24V MPFI DOHC', '1.5L I4 16V GDI DOHC',\n",
       "       'Intercooled Turbo Regular Unleaded I-4 2.0 L/122',\n",
       "       '3.0L I6 24V DDI DOHC Turbo Diesel', '3.0L I6 24V MPFI DOHC Turbo',\n",
       "       '2.5L V6 24V PDI DOHC', 'Engine: 3.0L V6 Twin Turbo DOHC',\n",
       "       '3.2L V6 18V MPFI SOHC',\n",
       "       '2.4L DOHC PGM-FI 16-valve i-VTEC I4 engine',\n",
       "       '4.3L V6 12V MPFI OHV', 'Gas V8 7.0L/427.2',\n",
       "       '3.0L DOHC 24-valve I6 engine-inc: double-VANOS variable valve ti',\n",
       "       '3.6L 6 Cyl. SMPI DOHC', '2.5L',\n",
       "       '2.0L 4-Cylinder DOHC 16V TwinPower Turbo', 'V6, VTEC, 3.5 Liter',\n",
       "       '3.0L V6 24V MPFI DOHC Flexible Fuel',\n",
       "       'Twin Turbo Premium Unleaded V-6 3.5 L/213',\n",
       "       '3.3L V6 12V MPFI SOHC', '4.3L V6 12V GDI OHV',\n",
       "       'Intercooled Turbo Diesel I-6 6.7 L/408',\n",
       "       '2.7L DOHC 16-valve I4 engine', '4.7L V8 16V MPFI SOHC',\n",
       "       '3.0L V6 Turbo Diesel', '5.9L V8 16V MPFI OHV',\n",
       "       'Intercooled Supercharger Premium Unleaded V-8 6.2 L/376',\n",
       "       'Intercooled Turbo Premium Unleaded I-4 1.5 L/91',\n",
       "       '2.0L I4 16V MPFI SOHC', '5.0L V8 32V DDI DOHC Turbo Diesel',\n",
       "       '3.8L V6 24V MPFI DOHC Twin Turbo',\n",
       "       '3.5L SFI 24-valve V6 engine -inc: dual variable valve timing w/i',\n",
       "       '3.2L SOHC PGM-FI 24-valve VTEC V6 engine',\n",
       "       '3.3L DOHC SMPI VVT-i 24-valve V6 engine',\n",
       "       'Twin Turbo Premium Unleaded V-8 4.0 L/244',\n",
       "       'Premium Unleaded V-8 5.6 L/339', 'Regular Unleaded V-8 5.7 L/346',\n",
       "       '5.2L V8 16V 2 BBL OHV',\n",
       "       'Twin Turbo Premium Unleaded V-6 2.9 L/176',\n",
       "       'Regular Unleaded V-6 3.7 L/227', '3.5L',\n",
       "       '5.0L DOHC GDI 32-valve V8 engine',\n",
       "       '5.5L V12 36V MPFI SOHC Twin Turbo',\n",
       "       '5.7L V8 32V DOHC Flexible Fuel',\n",
       "       '1.8L SOHC MPFI 16-valve i-VTEC I4 engine',\n",
       "       '2.4L DOHC MPFI 16-valve i-VTEC I4 engine', 'Gas V6 3.6L/217',\n",
       "       '3.9L V8 16V MPFI OHV',\n",
       "       'Intercooled Turbo Regular Unleaded H-4 2.4 L/146',\n",
       "       'Turbocharged Gas I6 3.0L/182',\n",
       "       'Engine: 3.0L TFSI V6 DOHC -inc: FSI direct injection and Audi va',\n",
       "       '3.3L V6 12V MPFI OHV Flexible Fuel',\n",
       "       'Engine: 1.5T I-4 DOHC 16-Valve Turbocharged VTEC',\n",
       "       '6.2L V8 16V MPFI SOHC', 'Ecoboost 3.5L V6',\n",
       "       '3.9L V8 32V GDI DOHC Twin Turbo', 'Gas/Electric I-4 2.0 L/122',\n",
       "       '2.0L H4 16V PDI DOHC',\n",
       "       'Turbo/Supercharger Gas/Electric I-4 2.0 L/120',\n",
       "       'Engine: 3.5L V6 DOHC 24V VVT-i -inc: dual continuously Variable',\n",
       "       '3.0L I4', 'Turbocharged Gas 4-Cyl 1.4L/83',\n",
       "       'Regular Unleaded V-8 5.7 L/345', '1.5L I4 16V MPFI SOHC', '4',\n",
       "       '6.2L V8 32V MPFI DOHC', '3.8L V6 12V MPFI OHV',\n",
       "       'Engine: 4.4L 32V Twin Turbocharged V8',\n",
       "       'Turbo Premium Unleaded I-4 2.0 L/122', 'Electric Motor',\n",
       "       '3.3L DOHC SFI 24-valve VVT-i V6 engine',\n",
       "       'Engine: 1.6L Direct Injection Gasoline (DIGTM) -inc: Turbocharge',\n",
       "       '2.8L V6 24V MPFI DOHC Turbo',\n",
       "       '2.5L DOHC all-alloy turbocharged I5 engine w/intercooler',\n",
       "       'Engine, 3.6L V6, DI, VVT, with Automatic Stop/Start (estimated 3',\n",
       "       '4.7L DOHC SEFI 32-valve i-Force V8 engine w/VVT-i',\n",
       "       '2.5L DOHC SMPI I5 engine', '6.1L V8 16V MPFI OHV',\n",
       "       '2.6L SOHC SMPI 18-valve FFV aluminum-alloy V6 engine',\n",
       "       'Regular Unleaded H-4 2.5 L/152', 'Regular Unleaded V-6 3.8 L/231',\n",
       "       'Engine, ECOTEC Turbo 1.4L Variable Valve Timing DOHC 4-cylinder',\n",
       "       'Turbo/Supercharger Premium Unleaded I-4 2.0 L/120',\n",
       "       '1.7L I4 16V MPFI SOHC', '3.5L V6 24V PDI DOHC Twin Turbo Hybrid',\n",
       "       '3.7L V6 12V MPFI SOHC', '1.4L I4 16V MPFI SOHC',\n",
       "       'Gas/Ethanol V8 5.3L/325', '1.8L I4 20V MPFI DOHC Turbo',\n",
       "       '2.0L I4 16V MPFI DOHC Turbo',\n",
       "       '3.7L V6 24V MPFI DOHC Flexible Fuel', '2.3L I4 16V MPFI DOHC',\n",
       "       'Engine, 3.6L SIDI V6 (288 hp [214.7 kW] @ 6300 rpm, 270 lb-ft of',\n",
       "       '3.5L I5 20V MPFI DOHC', '3.0L V6 30V MPFI DOHC',\n",
       "       '4.0L DOHC 24-valve VVT-i V6 engine',\n",
       "       '3.0L V6 24V MPFI SOHC Hybrid', '1.4L I4 16V MPFI SOHC Turbo',\n",
       "       '3.5L 24-valve EFI DOHC V6 engine', '4.0L SOHC V6 engine',\n",
       "       'Engine: 3.6L V6 24V VVT UPG I w/ESS',\n",
       "       '3.3L (201) 24-valve MPFI DOHC VVT-i V6 engine',\n",
       "       '2.9L V6 24V GDI DOHC Twin Turbo Hybrid',\n",
       "       '2.5L DOHC 24-valve direct injection V6 engine-inc: dual variable',\n",
       "       'YES A SUPER CLEAN LOW MILES 2004 F-150 4X4 FX4 IN GREAT SHAPE IN',\n",
       "       '4.0L V8 32V MPFI DOHC Twin Turbo',\n",
       "       '3.8L V8 32V MPFI DOHC Twin Turbo', '2.2L I4 8V MPFI OHV',\n",
       "       'Engine: 1.8L l-4 DOHC', 'Gas/Ethanol V6 4.3L/262',\n",
       "       '2.8L V6 24V MPFI DOHC', 'Premium Unleaded V-6 3.6 L/220',\n",
       "       '4.2L V6 12V MPFI OHV', '3.5L V6',\n",
       "       'Premium Unleaded V-8 5.0 L/302', '5.0L 8 Cylinder',\n",
       "       '3.0L TFSI supercharged V6 engine',\n",
       "       'Engine: 1.5L 16-Valve 4-Cylinder DOHC i-VTEC',\n",
       "       'Engine: 3.0L DOHC I-6 24V TwinPower Turbo',\n",
       "       '3.3L SOHC SMPI V6 engine',\n",
       "       '3.0L I6 24V DDI DOHC Twin Turbo Diesel',\n",
       "       'Premium Unleaded V-6 3.7 L/226',\n",
       "       'Engine: 2.5L 4 Cyl DOHC 16V w/VVT -inc: Active Valve Control Sys',\n",
       "       '6.0L W12 48V PDI DOHC Twin Turbo', 'Engine: 3.6L V6 24V VVT',\n",
       "       '3.4L H6 24V MPFI DOHC', 'Gas V8 6.0L/366',\n",
       "       'Premium Unleaded V-6 2.5 L/152',\n",
       "       '2.0L FSI I4 turbo-charged engine'], dtype=object)"
      ]
     },
     "execution_count": 17,
     "metadata": {},
     "output_type": "execute_result"
    }
   ],
   "source": [
    "df1['Engine'].unique()"
   ]
  },
  {
   "cell_type": "code",
   "execution_count": 18,
   "metadata": {},
   "outputs": [],
   "source": [
    "import re\n",
    "def func1(x):\n",
    "    if x==None:\n",
    "        return np.NaN\n",
    "    match1 = re.search(r\"V\\d{1,2}|I\\d{1,2}|I-\\d{1,2}|V-\\d{1,2}|\\d{1,2}-Cylinder|\\d{1,2} Cylinder|\\d{1,2}-cylinder\", x)\n",
    "    if match1==None:\n",
    "        return np.NaN\n",
    "    x=re.search(r\"\\d{1,2}\", match1.group(0))\n",
    "    x=x.group(0)+' Cylinders'\n",
    "    return x"
   ]
  },
  {
   "cell_type": "code",
   "execution_count": 19,
   "metadata": {},
   "outputs": [],
   "source": [
    "df1['Engine']=df1['Engine'].apply(lambda x: func1(x))"
   ]
  },
  {
   "cell_type": "code",
   "execution_count": 20,
   "metadata": {},
   "outputs": [
    {
     "data": {
      "text/plain": [
       "array(['6 Cylinders', '4 Cylinders', '8 Cylinders', nan, '5 Cylinders',\n",
       "       '10 Cylinders', '3 Cylinders', '12 Cylinders'], dtype=object)"
      ]
     },
     "execution_count": 20,
     "metadata": {},
     "output_type": "execute_result"
    }
   ],
   "source": [
    "df1['Engine'].unique()"
   ]
  },
  {
   "cell_type": "code",
   "execution_count": 21,
   "metadata": {},
   "outputs": [
    {
     "data": {
      "text/plain": [
       "6 Cylinders     4011\n",
       "4 Cylinders     3699\n",
       "8 Cylinders     1819\n",
       "5 Cylinders       18\n",
       "3 Cylinders       13\n",
       "10 Cylinders       6\n",
       "12 Cylinders       3\n",
       "Name: Engine, dtype: int64"
      ]
     },
     "execution_count": 21,
     "metadata": {},
     "output_type": "execute_result"
    }
   ],
   "source": [
    "df1['Engine'].value_counts()"
   ]
  },
  {
   "cell_type": "markdown",
   "metadata": {},
   "source": [
    "Explore and change (if necessary ) datatypes"
   ]
  },
  {
   "cell_type": "code",
   "execution_count": 22,
   "metadata": {},
   "outputs": [
    {
     "data": {
      "text/plain": [
       "Name            object\n",
       "Year             int64\n",
       "Manufacturer    object\n",
       "State           object\n",
       "Color           object\n",
       "Fuel type       object\n",
       "Transmission    object\n",
       "Engine          object\n",
       "VIN             object\n",
       "Mileage         object\n",
       "Price           object\n",
       "dtype: object"
      ]
     },
     "execution_count": 22,
     "metadata": {},
     "output_type": "execute_result"
    }
   ],
   "source": [
    "df1.dtypes"
   ]
  },
  {
   "cell_type": "code",
   "execution_count": 23,
   "metadata": {},
   "outputs": [],
   "source": [
    "df1['Year']=df1['Year'].astype(int)"
   ]
  },
  {
   "cell_type": "code",
   "execution_count": 24,
   "metadata": {
    "scrolled": true
   },
   "outputs": [],
   "source": [
    "df1['Mileage']=df1['Mileage'].str.replace(' mi.','').str.replace(',','')\n",
    "df1['Mileage']=df1['Mileage'].replace('–',0)\n",
    "df1['Mileage']=df1['Mileage'].astype(float)"
   ]
  },
  {
   "cell_type": "code",
   "execution_count": 25,
   "metadata": {
    "scrolled": true
   },
   "outputs": [],
   "source": [
    "df1['Price']=df1['Price'].str.replace('$','').str.replace(',','')\n",
    "df1['Price']=df1['Price'].replace('Not Priced',0)\n",
    "df1['Price']=df1['Price'].astype(int)"
   ]
  },
  {
   "cell_type": "code",
   "execution_count": 26,
   "metadata": {},
   "outputs": [
    {
     "data": {
      "text/html": [
       "<div>\n",
       "<style scoped>\n",
       "    .dataframe tbody tr th:only-of-type {\n",
       "        vertical-align: middle;\n",
       "    }\n",
       "\n",
       "    .dataframe tbody tr th {\n",
       "        vertical-align: top;\n",
       "    }\n",
       "\n",
       "    .dataframe thead th {\n",
       "        text-align: right;\n",
       "    }\n",
       "</style>\n",
       "<table border=\"1\" class=\"dataframe\">\n",
       "  <thead>\n",
       "    <tr style=\"text-align: right;\">\n",
       "      <th></th>\n",
       "      <th>Name</th>\n",
       "      <th>Year</th>\n",
       "      <th>Manufacturer</th>\n",
       "      <th>State</th>\n",
       "      <th>Color</th>\n",
       "      <th>Fuel type</th>\n",
       "      <th>Transmission</th>\n",
       "      <th>Engine</th>\n",
       "      <th>VIN</th>\n",
       "      <th>Mileage</th>\n",
       "      <th>Price</th>\n",
       "    </tr>\n",
       "  </thead>\n",
       "  <tbody>\n",
       "    <tr>\n",
       "      <th>0</th>\n",
       "      <td>AMG C 43 Base 4MATIC</td>\n",
       "      <td>2019</td>\n",
       "      <td>Mercedes-Benz</td>\n",
       "      <td>CA</td>\n",
       "      <td>Black</td>\n",
       "      <td>Gasoline</td>\n",
       "      <td>Automatic</td>\n",
       "      <td>6 Cylinders</td>\n",
       "      <td>55SWF6EB8KU291212</td>\n",
       "      <td>24076.0</td>\n",
       "      <td>54392</td>\n",
       "    </tr>\n",
       "    <tr>\n",
       "      <th>1</th>\n",
       "      <td>Terrain SLT</td>\n",
       "      <td>2018</td>\n",
       "      <td>GMC</td>\n",
       "      <td>TN</td>\n",
       "      <td>Graphite Gray Metallic</td>\n",
       "      <td>Gasoline</td>\n",
       "      <td>Automatic</td>\n",
       "      <td>4 Cylinders</td>\n",
       "      <td>3GKALVEX1JL336991</td>\n",
       "      <td>45278.0</td>\n",
       "      <td>26659</td>\n",
       "    </tr>\n",
       "    <tr>\n",
       "      <th>2</th>\n",
       "      <td>Romeo Stelvio Ti</td>\n",
       "      <td>2018</td>\n",
       "      <td>Alfa</td>\n",
       "      <td>PA</td>\n",
       "      <td>Vulcano Black Metallic</td>\n",
       "      <td>Gasoline</td>\n",
       "      <td>Automatic</td>\n",
       "      <td>4 Cylinders</td>\n",
       "      <td>ZASFAKNN5J7B93222</td>\n",
       "      <td>13690.0</td>\n",
       "      <td>34998</td>\n",
       "    </tr>\n",
       "    <tr>\n",
       "      <th>3</th>\n",
       "      <td>Aviator Reserve AWD</td>\n",
       "      <td>2020</td>\n",
       "      <td>Lincoln</td>\n",
       "      <td>WI</td>\n",
       "      <td>Blue Diamond</td>\n",
       "      <td>Gasoline</td>\n",
       "      <td>Automatic</td>\n",
       "      <td>6 Cylinders</td>\n",
       "      <td>5LM5J7XC1LGL24283</td>\n",
       "      <td>3104.0</td>\n",
       "      <td>55995</td>\n",
       "    </tr>\n",
       "    <tr>\n",
       "      <th>4</th>\n",
       "      <td>XC60 T6 Momentum</td>\n",
       "      <td>2021</td>\n",
       "      <td>Volvo</td>\n",
       "      <td>WA</td>\n",
       "      <td>Fusion Red Metallic</td>\n",
       "      <td>Gasoline</td>\n",
       "      <td>Automatic</td>\n",
       "      <td>4 Cylinders</td>\n",
       "      <td>YV4A22RK1M1777654</td>\n",
       "      <td>18378.0</td>\n",
       "      <td>46880</td>\n",
       "    </tr>\n",
       "    <tr>\n",
       "      <th>...</th>\n",
       "      <td>...</td>\n",
       "      <td>...</td>\n",
       "      <td>...</td>\n",
       "      <td>...</td>\n",
       "      <td>...</td>\n",
       "      <td>...</td>\n",
       "      <td>...</td>\n",
       "      <td>...</td>\n",
       "      <td>...</td>\n",
       "      <td>...</td>\n",
       "      <td>...</td>\n",
       "    </tr>\n",
       "    <tr>\n",
       "      <th>9954</th>\n",
       "      <td>Tahoe LT</td>\n",
       "      <td>2015</td>\n",
       "      <td>Chevrolet</td>\n",
       "      <td>IN</td>\n",
       "      <td>Summit White</td>\n",
       "      <td>Gasoline</td>\n",
       "      <td>Automatic</td>\n",
       "      <td>8 Cylinders</td>\n",
       "      <td>1GNSKBKC4FR241349</td>\n",
       "      <td>110228.0</td>\n",
       "      <td>31995</td>\n",
       "    </tr>\n",
       "    <tr>\n",
       "      <th>9955</th>\n",
       "      <td>NX 300 Base</td>\n",
       "      <td>2021</td>\n",
       "      <td>Lexus</td>\n",
       "      <td>DE</td>\n",
       "      <td>Nebula Gray Pearl</td>\n",
       "      <td>Gasoline</td>\n",
       "      <td>Automatic</td>\n",
       "      <td>4 Cylinders</td>\n",
       "      <td>JTJGARDZ1M2241517</td>\n",
       "      <td>11994.0</td>\n",
       "      <td>41993</td>\n",
       "    </tr>\n",
       "    <tr>\n",
       "      <th>9956</th>\n",
       "      <td>X5 xDrive35i</td>\n",
       "      <td>2018</td>\n",
       "      <td>BMW</td>\n",
       "      <td>TX</td>\n",
       "      <td>Mineral White Metallic</td>\n",
       "      <td>Gasoline</td>\n",
       "      <td>Automatic</td>\n",
       "      <td>6 Cylinders</td>\n",
       "      <td>5UXKR0C54JL075983</td>\n",
       "      <td>38099.0</td>\n",
       "      <td>41962</td>\n",
       "    </tr>\n",
       "    <tr>\n",
       "      <th>9957</th>\n",
       "      <td>LX 570 Three-Row</td>\n",
       "      <td>2020</td>\n",
       "      <td>Lexus</td>\n",
       "      <td>TX</td>\n",
       "      <td>Black</td>\n",
       "      <td>Gasoline</td>\n",
       "      <td>Automatic</td>\n",
       "      <td>8 Cylinders</td>\n",
       "      <td>JTJDY7AX9L4313363</td>\n",
       "      <td>18357.0</td>\n",
       "      <td>89888</td>\n",
       "    </tr>\n",
       "    <tr>\n",
       "      <th>9958</th>\n",
       "      <td>Compass Trailhawk</td>\n",
       "      <td>2020</td>\n",
       "      <td>Jeep</td>\n",
       "      <td>TN</td>\n",
       "      <td>Billet Silver Metallic Clearcoat</td>\n",
       "      <td>Gasoline</td>\n",
       "      <td>Automatic</td>\n",
       "      <td>4 Cylinders</td>\n",
       "      <td>3C4NJDDB6LT171896</td>\n",
       "      <td>47303.0</td>\n",
       "      <td>23989</td>\n",
       "    </tr>\n",
       "  </tbody>\n",
       "</table>\n",
       "<p>9947 rows × 11 columns</p>\n",
       "</div>"
      ],
      "text/plain": [
       "                      Name  Year   Manufacturer State  \\\n",
       "0     AMG C 43 Base 4MATIC  2019  Mercedes-Benz    CA   \n",
       "1              Terrain SLT  2018            GMC    TN   \n",
       "2         Romeo Stelvio Ti  2018           Alfa    PA   \n",
       "3      Aviator Reserve AWD  2020        Lincoln    WI   \n",
       "4         XC60 T6 Momentum  2021          Volvo    WA   \n",
       "...                    ...   ...            ...   ...   \n",
       "9954              Tahoe LT  2015      Chevrolet    IN   \n",
       "9955           NX 300 Base  2021          Lexus    DE   \n",
       "9956          X5 xDrive35i  2018            BMW    TX   \n",
       "9957      LX 570 Three-Row  2020          Lexus    TX   \n",
       "9958     Compass Trailhawk  2020           Jeep    TN   \n",
       "\n",
       "                                 Color Fuel type Transmission       Engine  \\\n",
       "0                                Black  Gasoline    Automatic  6 Cylinders   \n",
       "1               Graphite Gray Metallic  Gasoline    Automatic  4 Cylinders   \n",
       "2               Vulcano Black Metallic  Gasoline    Automatic  4 Cylinders   \n",
       "3                         Blue Diamond  Gasoline    Automatic  6 Cylinders   \n",
       "4                  Fusion Red Metallic  Gasoline    Automatic  4 Cylinders   \n",
       "...                                ...       ...          ...          ...   \n",
       "9954                      Summit White  Gasoline    Automatic  8 Cylinders   \n",
       "9955                 Nebula Gray Pearl  Gasoline    Automatic  4 Cylinders   \n",
       "9956            Mineral White Metallic  Gasoline    Automatic  6 Cylinders   \n",
       "9957                             Black  Gasoline    Automatic  8 Cylinders   \n",
       "9958  Billet Silver Metallic Clearcoat  Gasoline    Automatic  4 Cylinders   \n",
       "\n",
       "                    VIN   Mileage  Price  \n",
       "0     55SWF6EB8KU291212   24076.0  54392  \n",
       "1     3GKALVEX1JL336991   45278.0  26659  \n",
       "2     ZASFAKNN5J7B93222   13690.0  34998  \n",
       "3     5LM5J7XC1LGL24283    3104.0  55995  \n",
       "4     YV4A22RK1M1777654   18378.0  46880  \n",
       "...                 ...       ...    ...  \n",
       "9954  1GNSKBKC4FR241349  110228.0  31995  \n",
       "9955  JTJGARDZ1M2241517   11994.0  41993  \n",
       "9956  5UXKR0C54JL075983   38099.0  41962  \n",
       "9957  JTJDY7AX9L4313363   18357.0  89888  \n",
       "9958  3C4NJDDB6LT171896   47303.0  23989  \n",
       "\n",
       "[9947 rows x 11 columns]"
      ]
     },
     "execution_count": 26,
     "metadata": {},
     "output_type": "execute_result"
    }
   ],
   "source": [
    "df1"
   ]
  },
  {
   "cell_type": "markdown",
   "metadata": {},
   "source": [
    "## additional dataset"
   ]
  },
  {
   "cell_type": "code",
   "execution_count": 27,
   "metadata": {},
   "outputs": [],
   "source": [
    "used_car_ds = pd.read_csv(\"vehicles.csv\")"
   ]
  },
  {
   "cell_type": "code",
   "execution_count": 28,
   "metadata": {},
   "outputs": [
    {
     "data": {
      "text/plain": [
       "(426880, 26)"
      ]
     },
     "execution_count": 28,
     "metadata": {},
     "output_type": "execute_result"
    }
   ],
   "source": [
    "used_car_ds.shape"
   ]
  },
  {
   "cell_type": "code",
   "execution_count": 29,
   "metadata": {},
   "outputs": [
    {
     "data": {
      "text/plain": [
       "Index(['id', 'url', 'region', 'region_url', 'price', 'year', 'manufacturer',\n",
       "       'model', 'condition', 'cylinders', 'fuel', 'odometer', 'title_status',\n",
       "       'transmission', 'VIN', 'drive', 'size', 'type', 'paint_color',\n",
       "       'image_url', 'description', 'county', 'state', 'lat', 'long',\n",
       "       'posting_date'],\n",
       "      dtype='object')"
      ]
     },
     "execution_count": 29,
     "metadata": {},
     "output_type": "execute_result"
    }
   ],
   "source": [
    "used_car_ds.columns"
   ]
  },
  {
   "cell_type": "markdown",
   "metadata": {},
   "source": [
    "### Data Cleaning of the additional dataet"
   ]
  },
  {
   "cell_type": "markdown",
   "metadata": {},
   "source": [
    "drop unnecessary columns"
   ]
  },
  {
   "cell_type": "code",
   "execution_count": 30,
   "metadata": {},
   "outputs": [],
   "source": [
    "used_car_ds.drop(columns=['id', 'url', 'region', 'region_url', 'condition','title_status',\n",
    "        'drive', 'size', 'type','image_url', 'description', 'county', 'lat', 'long',\n",
    "       'posting_date'], inplace=True)"
   ]
  },
  {
   "cell_type": "code",
   "execution_count": 31,
   "metadata": {},
   "outputs": [
    {
     "data": {
      "text/plain": [
       "Index(['price', 'year', 'manufacturer', 'model', 'cylinders', 'fuel',\n",
       "       'odometer', 'transmission', 'VIN', 'paint_color', 'state'],\n",
       "      dtype='object')"
      ]
     },
     "execution_count": 31,
     "metadata": {},
     "output_type": "execute_result"
    }
   ],
   "source": [
    "used_car_ds.columns"
   ]
  },
  {
   "cell_type": "code",
   "execution_count": 32,
   "metadata": {},
   "outputs": [
    {
     "data": {
      "text/plain": [
       "price             int64\n",
       "year            float64\n",
       "manufacturer     object\n",
       "model            object\n",
       "cylinders        object\n",
       "fuel             object\n",
       "odometer        float64\n",
       "transmission     object\n",
       "VIN              object\n",
       "paint_color      object\n",
       "state            object\n",
       "dtype: object"
      ]
     },
     "execution_count": 32,
     "metadata": {},
     "output_type": "execute_result"
    }
   ],
   "source": [
    "used_car_ds.dtypes"
   ]
  },
  {
   "cell_type": "markdown",
   "metadata": {},
   "source": [
    "rearange and rename columns to **match the format** of the scrapped data"
   ]
  },
  {
   "cell_type": "code",
   "execution_count": 33,
   "metadata": {},
   "outputs": [],
   "source": [
    "used_car_ds= used_car_ds[['model','year','manufacturer', 'state','paint_color','fuel','transmission','cylinders','VIN','odometer','price']]"
   ]
  },
  {
   "cell_type": "code",
   "execution_count": 34,
   "metadata": {},
   "outputs": [],
   "source": [
    "used_car_ds.rename(columns = {'model': 'Name', 'year': 'Year', 'manufacturer': 'Manufacturer','state': 'State','paint_color': 'Color',\n",
    "                             'fuel': 'Fuel type','transmission': 'Transmission','cylinders': 'Engine','odometer': 'Mileage','price':'Price'}, inplace = True)"
   ]
  },
  {
   "cell_type": "markdown",
   "metadata": {},
   "source": [
    "**EDA and cleaning**"
   ]
  },
  {
   "cell_type": "markdown",
   "metadata": {},
   "source": [
    "convert year to Int"
   ]
  },
  {
   "cell_type": "code",
   "execution_count": 35,
   "metadata": {},
   "outputs": [],
   "source": [
    "used_car_ds.Year= used_car_ds.Year.replace(np.nan,0)\n",
    "used_car_ds.Year= used_car_ds.Year.astype(int)"
   ]
  },
  {
   "cell_type": "markdown",
   "metadata": {},
   "source": [
    "Manufacturer column expoloring and cleaning"
   ]
  },
  {
   "cell_type": "code",
   "execution_count": 36,
   "metadata": {},
   "outputs": [],
   "source": [
    "used_car_ds['Manufacturer']= used_car_ds['Manufacturer'].str.title()"
   ]
  },
  {
   "cell_type": "markdown",
   "metadata": {},
   "source": [
    "State column expoloring and cleaning"
   ]
  },
  {
   "cell_type": "code",
   "execution_count": 37,
   "metadata": {},
   "outputs": [
    {
     "data": {
      "text/plain": [
       "array(['az', 'ar', 'fl', 'ma', 'nc', 'ny', 'or', 'pa', 'tx', 'wa', 'wi',\n",
       "       'al', 'ak', 'ca', 'co', 'ct', 'dc', 'de', 'ga', 'hi', 'id', 'il',\n",
       "       'in', 'ia', 'ks', 'ky', 'la', 'me', 'md', 'mi', 'mn', 'ms', 'mo',\n",
       "       'mt', 'ne', 'nv', 'nj', 'nm', 'nh', 'nd', 'oh', 'ok', 'ri', 'sc',\n",
       "       'sd', 'tn', 'ut', 'vt', 'va', 'wv', 'wy'], dtype=object)"
      ]
     },
     "execution_count": 37,
     "metadata": {},
     "output_type": "execute_result"
    }
   ],
   "source": [
    "used_car_ds['State'].unique()"
   ]
  },
  {
   "cell_type": "code",
   "execution_count": 38,
   "metadata": {},
   "outputs": [],
   "source": [
    "#capitalize\n",
    "used_car_ds['State']= used_car_ds['State'].str.upper()"
   ]
  },
  {
   "cell_type": "code",
   "execution_count": 39,
   "metadata": {},
   "outputs": [],
   "source": [
    "used_car_ds['Color']= used_car_ds['Color'].str.title()"
   ]
  },
  {
   "cell_type": "markdown",
   "metadata": {},
   "source": [
    "Fuel Type column expoloring and cleaning"
   ]
  },
  {
   "cell_type": "code",
   "execution_count": 40,
   "metadata": {},
   "outputs": [
    {
     "data": {
      "text/plain": [
       "array([nan, 'gas', 'other', 'diesel', 'hybrid', 'electric'], dtype=object)"
      ]
     },
     "execution_count": 40,
     "metadata": {},
     "output_type": "execute_result"
    }
   ],
   "source": [
    "used_car_ds['Fuel type'].unique()"
   ]
  },
  {
   "cell_type": "code",
   "execution_count": 41,
   "metadata": {},
   "outputs": [],
   "source": [
    "used_car_ds['Fuel type']= used_car_ds['Fuel type'].replace('gas','Gasoline')"
   ]
  },
  {
   "cell_type": "code",
   "execution_count": 42,
   "metadata": {},
   "outputs": [],
   "source": [
    "used_car_ds['Fuel type']= used_car_ds['Fuel type'].str.title()"
   ]
  },
  {
   "cell_type": "code",
   "execution_count": 43,
   "metadata": {},
   "outputs": [
    {
     "data": {
      "text/plain": [
       "array([nan, 'Gasoline', 'Other', 'Diesel', 'Hybrid', 'Electric'],\n",
       "      dtype=object)"
      ]
     },
     "execution_count": 43,
     "metadata": {},
     "output_type": "execute_result"
    }
   ],
   "source": [
    "used_car_ds['Fuel type'].unique()"
   ]
  },
  {
   "cell_type": "code",
   "execution_count": 44,
   "metadata": {},
   "outputs": [
    {
     "name": "stdout",
     "output_type": "stream",
     "text": [
      "Gasoline    356209\n",
      "Other        30728\n",
      "Diesel       30062\n",
      "Hybrid        5170\n",
      "Electric      1698\n",
      "Name: Fuel type, dtype: int64\n"
     ]
    }
   ],
   "source": [
    "print(used_car_ds['Fuel type'].value_counts())"
   ]
  },
  {
   "cell_type": "markdown",
   "metadata": {},
   "source": [
    "Transmission column expoloring and cleaning"
   ]
  },
  {
   "cell_type": "code",
   "execution_count": 45,
   "metadata": {},
   "outputs": [
    {
     "data": {
      "text/plain": [
       "array([nan, 'other', 'automatic', 'manual'], dtype=object)"
      ]
     },
     "execution_count": 45,
     "metadata": {},
     "output_type": "execute_result"
    }
   ],
   "source": [
    "used_car_ds['Transmission'].unique()"
   ]
  },
  {
   "cell_type": "code",
   "execution_count": 46,
   "metadata": {},
   "outputs": [],
   "source": [
    "used_car_ds['Transmission']= used_car_ds['Transmission'].str.title()"
   ]
  },
  {
   "cell_type": "code",
   "execution_count": 47,
   "metadata": {},
   "outputs": [
    {
     "data": {
      "text/plain": [
       "array([nan, 'Other', 'Automatic', 'Manual'], dtype=object)"
      ]
     },
     "execution_count": 47,
     "metadata": {},
     "output_type": "execute_result"
    }
   ],
   "source": [
    "used_car_ds['Transmission'].unique()"
   ]
  },
  {
   "cell_type": "markdown",
   "metadata": {},
   "source": [
    "Engine column expoloring and cleaning"
   ]
  },
  {
   "cell_type": "code",
   "execution_count": 48,
   "metadata": {},
   "outputs": [
    {
     "data": {
      "text/plain": [
       "array([nan, '8 cylinders', '6 cylinders', '4 cylinders', '5 cylinders',\n",
       "       'other', '3 cylinders', '10 cylinders', '12 cylinders'],\n",
       "      dtype=object)"
      ]
     },
     "execution_count": 48,
     "metadata": {},
     "output_type": "execute_result"
    }
   ],
   "source": [
    "used_car_ds['Engine'].unique()"
   ]
  },
  {
   "cell_type": "code",
   "execution_count": 49,
   "metadata": {},
   "outputs": [],
   "source": [
    "used_car_ds['Engine']= used_car_ds['Engine'].str.title()"
   ]
  },
  {
   "cell_type": "code",
   "execution_count": 50,
   "metadata": {},
   "outputs": [
    {
     "data": {
      "text/plain": [
       "array([nan, '8 Cylinders', '6 Cylinders', '4 Cylinders', '5 Cylinders',\n",
       "       'Other', '3 Cylinders', '10 Cylinders', '12 Cylinders'],\n",
       "      dtype=object)"
      ]
     },
     "execution_count": 50,
     "metadata": {},
     "output_type": "execute_result"
    }
   ],
   "source": [
    "used_car_ds['Engine'].unique()"
   ]
  },
  {
   "cell_type": "code",
   "execution_count": 51,
   "metadata": {},
   "outputs": [
    {
     "name": "stdout",
     "output_type": "stream",
     "text": [
      "6 Cylinders     94169\n",
      "4 Cylinders     77642\n",
      "8 Cylinders     72062\n",
      "5 Cylinders      1712\n",
      "10 Cylinders     1455\n",
      "Other            1298\n",
      "3 Cylinders       655\n",
      "12 Cylinders      209\n",
      "Name: Engine, dtype: int64\n"
     ]
    }
   ],
   "source": [
    "print(used_car_ds['Engine'].value_counts())"
   ]
  },
  {
   "cell_type": "markdown",
   "metadata": {},
   "source": [
    "**Merge the datasets**"
   ]
  },
  {
   "cell_type": "code",
   "execution_count": 52,
   "metadata": {},
   "outputs": [],
   "source": [
    "used_cars_df=pd.DataFrame()\n",
    "frames = [df1, used_car_ds]\n",
    "used_cars_df = pd.concat(frames)"
   ]
  },
  {
   "cell_type": "code",
   "execution_count": 53,
   "metadata": {},
   "outputs": [
    {
     "data": {
      "text/html": [
       "<div>\n",
       "<style scoped>\n",
       "    .dataframe tbody tr th:only-of-type {\n",
       "        vertical-align: middle;\n",
       "    }\n",
       "\n",
       "    .dataframe tbody tr th {\n",
       "        vertical-align: top;\n",
       "    }\n",
       "\n",
       "    .dataframe thead th {\n",
       "        text-align: right;\n",
       "    }\n",
       "</style>\n",
       "<table border=\"1\" class=\"dataframe\">\n",
       "  <thead>\n",
       "    <tr style=\"text-align: right;\">\n",
       "      <th></th>\n",
       "      <th>Name</th>\n",
       "      <th>Year</th>\n",
       "      <th>Manufacturer</th>\n",
       "      <th>State</th>\n",
       "      <th>Color</th>\n",
       "      <th>Fuel type</th>\n",
       "      <th>Transmission</th>\n",
       "      <th>Engine</th>\n",
       "      <th>VIN</th>\n",
       "      <th>Mileage</th>\n",
       "      <th>Price</th>\n",
       "    </tr>\n",
       "  </thead>\n",
       "  <tbody>\n",
       "    <tr>\n",
       "      <th>0</th>\n",
       "      <td>AMG C 43 Base 4MATIC</td>\n",
       "      <td>2019</td>\n",
       "      <td>Mercedes-Benz</td>\n",
       "      <td>CA</td>\n",
       "      <td>Black</td>\n",
       "      <td>Gasoline</td>\n",
       "      <td>Automatic</td>\n",
       "      <td>6 Cylinders</td>\n",
       "      <td>55SWF6EB8KU291212</td>\n",
       "      <td>24076.0</td>\n",
       "      <td>54392</td>\n",
       "    </tr>\n",
       "    <tr>\n",
       "      <th>1</th>\n",
       "      <td>Terrain SLT</td>\n",
       "      <td>2018</td>\n",
       "      <td>GMC</td>\n",
       "      <td>TN</td>\n",
       "      <td>Graphite Gray Metallic</td>\n",
       "      <td>Gasoline</td>\n",
       "      <td>Automatic</td>\n",
       "      <td>4 Cylinders</td>\n",
       "      <td>3GKALVEX1JL336991</td>\n",
       "      <td>45278.0</td>\n",
       "      <td>26659</td>\n",
       "    </tr>\n",
       "    <tr>\n",
       "      <th>2</th>\n",
       "      <td>Romeo Stelvio Ti</td>\n",
       "      <td>2018</td>\n",
       "      <td>Alfa</td>\n",
       "      <td>PA</td>\n",
       "      <td>Vulcano Black Metallic</td>\n",
       "      <td>Gasoline</td>\n",
       "      <td>Automatic</td>\n",
       "      <td>4 Cylinders</td>\n",
       "      <td>ZASFAKNN5J7B93222</td>\n",
       "      <td>13690.0</td>\n",
       "      <td>34998</td>\n",
       "    </tr>\n",
       "    <tr>\n",
       "      <th>3</th>\n",
       "      <td>Aviator Reserve AWD</td>\n",
       "      <td>2020</td>\n",
       "      <td>Lincoln</td>\n",
       "      <td>WI</td>\n",
       "      <td>Blue Diamond</td>\n",
       "      <td>Gasoline</td>\n",
       "      <td>Automatic</td>\n",
       "      <td>6 Cylinders</td>\n",
       "      <td>5LM5J7XC1LGL24283</td>\n",
       "      <td>3104.0</td>\n",
       "      <td>55995</td>\n",
       "    </tr>\n",
       "    <tr>\n",
       "      <th>4</th>\n",
       "      <td>XC60 T6 Momentum</td>\n",
       "      <td>2021</td>\n",
       "      <td>Volvo</td>\n",
       "      <td>WA</td>\n",
       "      <td>Fusion Red Metallic</td>\n",
       "      <td>Gasoline</td>\n",
       "      <td>Automatic</td>\n",
       "      <td>4 Cylinders</td>\n",
       "      <td>YV4A22RK1M1777654</td>\n",
       "      <td>18378.0</td>\n",
       "      <td>46880</td>\n",
       "    </tr>\n",
       "    <tr>\n",
       "      <th>...</th>\n",
       "      <td>...</td>\n",
       "      <td>...</td>\n",
       "      <td>...</td>\n",
       "      <td>...</td>\n",
       "      <td>...</td>\n",
       "      <td>...</td>\n",
       "      <td>...</td>\n",
       "      <td>...</td>\n",
       "      <td>...</td>\n",
       "      <td>...</td>\n",
       "      <td>...</td>\n",
       "    </tr>\n",
       "    <tr>\n",
       "      <th>426875</th>\n",
       "      <td>maxima s sedan 4d</td>\n",
       "      <td>2019</td>\n",
       "      <td>Nissan</td>\n",
       "      <td>WY</td>\n",
       "      <td>NaN</td>\n",
       "      <td>Gasoline</td>\n",
       "      <td>Other</td>\n",
       "      <td>6 Cylinders</td>\n",
       "      <td>1N4AA6AV6KC367801</td>\n",
       "      <td>32226.0</td>\n",
       "      <td>23590</td>\n",
       "    </tr>\n",
       "    <tr>\n",
       "      <th>426876</th>\n",
       "      <td>s60 t5 momentum sedan 4d</td>\n",
       "      <td>2020</td>\n",
       "      <td>Volvo</td>\n",
       "      <td>WY</td>\n",
       "      <td>Red</td>\n",
       "      <td>Gasoline</td>\n",
       "      <td>Other</td>\n",
       "      <td>NaN</td>\n",
       "      <td>7JR102FKXLG042696</td>\n",
       "      <td>12029.0</td>\n",
       "      <td>30590</td>\n",
       "    </tr>\n",
       "    <tr>\n",
       "      <th>426877</th>\n",
       "      <td>xt4 sport suv 4d</td>\n",
       "      <td>2020</td>\n",
       "      <td>Cadillac</td>\n",
       "      <td>WY</td>\n",
       "      <td>White</td>\n",
       "      <td>Diesel</td>\n",
       "      <td>Other</td>\n",
       "      <td>NaN</td>\n",
       "      <td>1GYFZFR46LF088296</td>\n",
       "      <td>4174.0</td>\n",
       "      <td>34990</td>\n",
       "    </tr>\n",
       "    <tr>\n",
       "      <th>426878</th>\n",
       "      <td>es 350 sedan 4d</td>\n",
       "      <td>2018</td>\n",
       "      <td>Lexus</td>\n",
       "      <td>WY</td>\n",
       "      <td>Silver</td>\n",
       "      <td>Gasoline</td>\n",
       "      <td>Other</td>\n",
       "      <td>6 Cylinders</td>\n",
       "      <td>58ABK1GG4JU103853</td>\n",
       "      <td>30112.0</td>\n",
       "      <td>28990</td>\n",
       "    </tr>\n",
       "    <tr>\n",
       "      <th>426879</th>\n",
       "      <td>4 series 430i gran coupe</td>\n",
       "      <td>2019</td>\n",
       "      <td>Bmw</td>\n",
       "      <td>WY</td>\n",
       "      <td>NaN</td>\n",
       "      <td>Gasoline</td>\n",
       "      <td>Other</td>\n",
       "      <td>NaN</td>\n",
       "      <td>WBA4J1C58KBM14708</td>\n",
       "      <td>22716.0</td>\n",
       "      <td>30590</td>\n",
       "    </tr>\n",
       "  </tbody>\n",
       "</table>\n",
       "<p>436827 rows × 11 columns</p>\n",
       "</div>"
      ],
      "text/plain": [
       "                            Name  Year   Manufacturer State  \\\n",
       "0           AMG C 43 Base 4MATIC  2019  Mercedes-Benz    CA   \n",
       "1                    Terrain SLT  2018            GMC    TN   \n",
       "2               Romeo Stelvio Ti  2018           Alfa    PA   \n",
       "3            Aviator Reserve AWD  2020        Lincoln    WI   \n",
       "4               XC60 T6 Momentum  2021          Volvo    WA   \n",
       "...                          ...   ...            ...   ...   \n",
       "426875         maxima s sedan 4d  2019         Nissan    WY   \n",
       "426876  s60 t5 momentum sedan 4d  2020          Volvo    WY   \n",
       "426877          xt4 sport suv 4d  2020       Cadillac    WY   \n",
       "426878           es 350 sedan 4d  2018          Lexus    WY   \n",
       "426879  4 series 430i gran coupe  2019            Bmw    WY   \n",
       "\n",
       "                         Color Fuel type Transmission       Engine  \\\n",
       "0                        Black  Gasoline    Automatic  6 Cylinders   \n",
       "1       Graphite Gray Metallic  Gasoline    Automatic  4 Cylinders   \n",
       "2       Vulcano Black Metallic  Gasoline    Automatic  4 Cylinders   \n",
       "3                 Blue Diamond  Gasoline    Automatic  6 Cylinders   \n",
       "4          Fusion Red Metallic  Gasoline    Automatic  4 Cylinders   \n",
       "...                        ...       ...          ...          ...   \n",
       "426875                     NaN  Gasoline        Other  6 Cylinders   \n",
       "426876                     Red  Gasoline        Other          NaN   \n",
       "426877                   White    Diesel        Other          NaN   \n",
       "426878                  Silver  Gasoline        Other  6 Cylinders   \n",
       "426879                     NaN  Gasoline        Other          NaN   \n",
       "\n",
       "                      VIN  Mileage  Price  \n",
       "0       55SWF6EB8KU291212  24076.0  54392  \n",
       "1       3GKALVEX1JL336991  45278.0  26659  \n",
       "2       ZASFAKNN5J7B93222  13690.0  34998  \n",
       "3       5LM5J7XC1LGL24283   3104.0  55995  \n",
       "4       YV4A22RK1M1777654  18378.0  46880  \n",
       "...                   ...      ...    ...  \n",
       "426875  1N4AA6AV6KC367801  32226.0  23590  \n",
       "426876  7JR102FKXLG042696  12029.0  30590  \n",
       "426877  1GYFZFR46LF088296   4174.0  34990  \n",
       "426878  58ABK1GG4JU103853  30112.0  28990  \n",
       "426879  WBA4J1C58KBM14708  22716.0  30590  \n",
       "\n",
       "[436827 rows x 11 columns]"
      ]
     },
     "execution_count": 53,
     "metadata": {},
     "output_type": "execute_result"
    }
   ],
   "source": [
    "used_cars_df"
   ]
  },
  {
   "cell_type": "markdown",
   "metadata": {},
   "source": [
    "### Data Cleaning "
   ]
  },
  {
   "cell_type": "markdown",
   "metadata": {},
   "source": [
    "Standardize the format of the merged dataset"
   ]
  },
  {
   "cell_type": "code",
   "execution_count": 54,
   "metadata": {},
   "outputs": [],
   "source": [
    "used_cars_df['Manufacturer']=used_cars_df['Manufacturer'].str.title()"
   ]
  },
  {
   "cell_type": "code",
   "execution_count": 55,
   "metadata": {},
   "outputs": [
    {
     "data": {
      "text/plain": [
       "array(['Mercedes-Benz', 'Gmc', 'Alfa', 'Lincoln', 'Volvo', 'Jeep',\n",
       "       'Mazda', 'Lexus', 'Ford', 'Hyundai', 'Audi', 'Cadillac',\n",
       "       'Volkswagen', 'Acura', 'Chevrolet', 'Toyota', 'Bmw', 'Honda',\n",
       "       'Land', 'Dodge', 'Tesla', 'Maserati', 'Infiniti', 'Bentley',\n",
       "       'Jaguar', 'Subaru', 'Porsche', 'Ram', 'Nissan', 'Kia', 'Genesis',\n",
       "       'Mini', 'Buick', 'Chrysler', 'Lamborghini', 'Mitsubishi', 'Fiat',\n",
       "       'Rolls-Royce', 'Ferrari', 'Saturn', 'Smart', 'Hummer', 'Mclaren',\n",
       "       'Scion', nan, 'Alfa-Romeo', 'Rover', 'Pontiac', 'Mercury',\n",
       "       'Harley-Davidson', 'Datsun', 'Aston-Martin', 'Land Rover',\n",
       "       'Morgan'], dtype=object)"
      ]
     },
     "execution_count": 55,
     "metadata": {},
     "output_type": "execute_result"
    }
   ],
   "source": [
    "used_cars_df['Manufacturer'].unique()"
   ]
  },
  {
   "cell_type": "markdown",
   "metadata": {},
   "source": [
    "**Dealing with missing values**"
   ]
  },
  {
   "cell_type": "code",
   "execution_count": 56,
   "metadata": {
    "scrolled": true
   },
   "outputs": [
    {
     "name": "stdout",
     "output_type": "stream",
     "text": [
      "Name - 1%\n",
      "Year - 0%\n",
      "Manufacturer - 4%\n",
      "State - 0%\n",
      "Color - 30%\n",
      "Fuel type - 1%\n",
      "Transmission - 1%\n",
      "Engine - 41%\n",
      "VIN - 37%\n",
      "Mileage - 1%\n",
      "Price - 0%\n"
     ]
    }
   ],
   "source": [
    "for col in used_cars_df.columns:\n",
    "    pct_missing = np.mean(used_cars_df[col].isna())\n",
    "    print('{} - {}%'.format(col, round(pct_missing*100)))"
   ]
  },
  {
   "cell_type": "markdown",
   "metadata": {},
   "source": [
    "Since VIN column is not important for the linear regression, we will drop it from the dataset"
   ]
  },
  {
   "cell_type": "code",
   "execution_count": 57,
   "metadata": {},
   "outputs": [],
   "source": [
    "used_cars_df.drop(columns=['VIN'], inplace=True)"
   ]
  },
  {
   "cell_type": "code",
   "execution_count": 58,
   "metadata": {},
   "outputs": [],
   "source": [
    "used_cars_df['Mileage'].fillna(used_cars_df['Mileage'].mean(), inplace=True)"
   ]
  },
  {
   "cell_type": "code",
   "execution_count": 59,
   "metadata": {},
   "outputs": [],
   "source": [
    "used_cars_df['Name']= used_cars_df['Name'].replace(np.NaN,'Not specified')\n",
    "used_cars_df['Manufacturer']= used_cars_df['Manufacturer'].replace(np.NaN,'Not specified')"
   ]
  },
  {
   "cell_type": "code",
   "execution_count": 60,
   "metadata": {},
   "outputs": [
    {
     "name": "stdout",
     "output_type": "stream",
     "text": [
      "Name - 0%\n",
      "Year - 0%\n",
      "Manufacturer - 0%\n",
      "State - 0%\n",
      "Color - 30%\n",
      "Fuel type - 1%\n",
      "Transmission - 1%\n",
      "Engine - 41%\n",
      "Mileage - 0%\n",
      "Price - 0%\n"
     ]
    }
   ],
   "source": [
    "for col in used_cars_df.columns:\n",
    "    pct_missing = np.mean(used_cars_df[col].isna())\n",
    "    print('{} - {}%'.format(col, round(pct_missing*100)))"
   ]
  },
  {
   "cell_type": "markdown",
   "metadata": {},
   "source": [
    "We will drop the rows contain null values "
   ]
  },
  {
   "cell_type": "code",
   "execution_count": 61,
   "metadata": {},
   "outputs": [],
   "source": [
    "used_cars_df.dropna(inplace=True)"
   ]
  },
  {
   "cell_type": "code",
   "execution_count": 62,
   "metadata": {},
   "outputs": [
    {
     "data": {
      "text/plain": [
       "(207653, 10)"
      ]
     },
     "execution_count": 62,
     "metadata": {},
     "output_type": "execute_result"
    }
   ],
   "source": [
    "used_cars_df.shape"
   ]
  },
  {
   "cell_type": "markdown",
   "metadata": {},
   "source": [
    "**Detecting and removing outliers**"
   ]
  },
  {
   "cell_type": "code",
   "execution_count": 63,
   "metadata": {},
   "outputs": [],
   "source": [
    "Q1 = used_cars_df['Mileage'].quantile(0.25)\n",
    "Q3 = used_cars_df['Mileage'].quantile(0.75)\n",
    "IQR = Q3 - Q1\n",
    "used_cars_df.loc[((used_cars_df.Mileage<=(Q1-1.5*IQR)) | (used_cars_df.Mileage>=(Q3+1.5*IQR))) , \"Mileage\"] =used_cars_df['Mileage'].mean()"
   ]
  },
  {
   "cell_type": "code",
   "execution_count": 64,
   "metadata": {},
   "outputs": [
    {
     "data": {
      "text/plain": [
       "<AxesSubplot:xlabel='Price'>"
      ]
     },
     "execution_count": 64,
     "metadata": {},
     "output_type": "execute_result"
    },
    {
     "data": {
      "image/png": "[encoded data removed]",
      "text/plain": [
       "<Figure size 432x288 with 1 Axes>"
      ]
     },
     "metadata": {
      "needs_background": "light"
     },
     "output_type": "display_data"
    }
   ],
   "source": [
    "import seaborn as sns\n",
    "sns.boxplot(x=used_cars_df['Price'])"
   ]
  },
  {
   "cell_type": "code",
   "execution_count": 65,
   "metadata": {},
   "outputs": [],
   "source": [
    "Q1 = used_cars_df['Price'].quantile(0.25)\n",
    "Q3 = used_cars_df['Price'].quantile(0.75)\n",
    "IQR = Q3 - Q1\n",
    "used_cars_df.loc[((used_cars_df.Price<(Q1-1.5*IQR)) | (used_cars_df.Price>(Q3+1.5*IQR))) , 'Price'] =used_cars_df['Price'].mean()"
   ]
  },
  {
   "cell_type": "code",
   "execution_count": 66,
   "metadata": {},
   "outputs": [
    {
     "data": {
      "text/html": [
       "<div>\n",
       "<style scoped>\n",
       "    .dataframe tbody tr th:only-of-type {\n",
       "        vertical-align: middle;\n",
       "    }\n",
       "\n",
       "    .dataframe tbody tr th {\n",
       "        vertical-align: top;\n",
       "    }\n",
       "\n",
       "    .dataframe thead th {\n",
       "        text-align: right;\n",
       "    }\n",
       "</style>\n",
       "<table border=\"1\" class=\"dataframe\">\n",
       "  <thead>\n",
       "    <tr style=\"text-align: right;\">\n",
       "      <th></th>\n",
       "      <th>Name</th>\n",
       "      <th>Year</th>\n",
       "      <th>Manufacturer</th>\n",
       "      <th>State</th>\n",
       "      <th>Color</th>\n",
       "      <th>Fuel type</th>\n",
       "      <th>Transmission</th>\n",
       "      <th>Engine</th>\n",
       "      <th>Mileage</th>\n",
       "      <th>Price</th>\n",
       "    </tr>\n",
       "  </thead>\n",
       "  <tbody>\n",
       "    <tr>\n",
       "      <th>0</th>\n",
       "      <td>AMG C 43 Base 4MATIC</td>\n",
       "      <td>2019</td>\n",
       "      <td>Mercedes-Benz</td>\n",
       "      <td>CA</td>\n",
       "      <td>Black</td>\n",
       "      <td>Gasoline</td>\n",
       "      <td>Automatic</td>\n",
       "      <td>6 Cylinders</td>\n",
       "      <td>24076.0</td>\n",
       "      <td>54392.0</td>\n",
       "    </tr>\n",
       "    <tr>\n",
       "      <th>1</th>\n",
       "      <td>Terrain SLT</td>\n",
       "      <td>2018</td>\n",
       "      <td>Gmc</td>\n",
       "      <td>TN</td>\n",
       "      <td>Graphite Gray Metallic</td>\n",
       "      <td>Gasoline</td>\n",
       "      <td>Automatic</td>\n",
       "      <td>4 Cylinders</td>\n",
       "      <td>45278.0</td>\n",
       "      <td>26659.0</td>\n",
       "    </tr>\n",
       "    <tr>\n",
       "      <th>2</th>\n",
       "      <td>Romeo Stelvio Ti</td>\n",
       "      <td>2018</td>\n",
       "      <td>Alfa</td>\n",
       "      <td>PA</td>\n",
       "      <td>Vulcano Black Metallic</td>\n",
       "      <td>Gasoline</td>\n",
       "      <td>Automatic</td>\n",
       "      <td>4 Cylinders</td>\n",
       "      <td>13690.0</td>\n",
       "      <td>34998.0</td>\n",
       "    </tr>\n",
       "    <tr>\n",
       "      <th>3</th>\n",
       "      <td>Aviator Reserve AWD</td>\n",
       "      <td>2020</td>\n",
       "      <td>Lincoln</td>\n",
       "      <td>WI</td>\n",
       "      <td>Blue Diamond</td>\n",
       "      <td>Gasoline</td>\n",
       "      <td>Automatic</td>\n",
       "      <td>6 Cylinders</td>\n",
       "      <td>3104.0</td>\n",
       "      <td>55995.0</td>\n",
       "    </tr>\n",
       "    <tr>\n",
       "      <th>4</th>\n",
       "      <td>XC60 T6 Momentum</td>\n",
       "      <td>2021</td>\n",
       "      <td>Volvo</td>\n",
       "      <td>WA</td>\n",
       "      <td>Fusion Red Metallic</td>\n",
       "      <td>Gasoline</td>\n",
       "      <td>Automatic</td>\n",
       "      <td>4 Cylinders</td>\n",
       "      <td>18378.0</td>\n",
       "      <td>46880.0</td>\n",
       "    </tr>\n",
       "  </tbody>\n",
       "</table>\n",
       "</div>"
      ],
      "text/plain": [
       "                   Name  Year   Manufacturer State                   Color  \\\n",
       "0  AMG C 43 Base 4MATIC  2019  Mercedes-Benz    CA                   Black   \n",
       "1           Terrain SLT  2018            Gmc    TN  Graphite Gray Metallic   \n",
       "2      Romeo Stelvio Ti  2018           Alfa    PA  Vulcano Black Metallic   \n",
       "3   Aviator Reserve AWD  2020        Lincoln    WI            Blue Diamond   \n",
       "4      XC60 T6 Momentum  2021          Volvo    WA     Fusion Red Metallic   \n",
       "\n",
       "  Fuel type Transmission       Engine  Mileage    Price  \n",
       "0  Gasoline    Automatic  6 Cylinders  24076.0  54392.0  \n",
       "1  Gasoline    Automatic  4 Cylinders  45278.0  26659.0  \n",
       "2  Gasoline    Automatic  4 Cylinders  13690.0  34998.0  \n",
       "3  Gasoline    Automatic  6 Cylinders   3104.0  55995.0  \n",
       "4  Gasoline    Automatic  4 Cylinders  18378.0  46880.0  "
      ]
     },
     "execution_count": 66,
     "metadata": {},
     "output_type": "execute_result"
    }
   ],
   "source": [
    "used_cars_df.head()"
   ]
  },
  {
   "cell_type": "code",
   "execution_count": null,
   "metadata": {},
   "outputs": [],
   "source": []
  }
 ],
 "metadata": {
  "kernelspec": {
   "display_name": "Python 3",
   "language": "python",
   "name": "python3"
  },
  "language_info": {
   "codemirror_mode": {
    "name": "ipython",
    "version": 3
   },
   "file_extension": ".py",
   "mimetype": "text/x-python",
   "name": "python",
   "nbconvert_exporter": "python",
   "pygments_lexer": "ipython3",
   "version": "3.8.8"
  }
 },
 "nbformat": 4,
 "nbformat_minor": 4
}
